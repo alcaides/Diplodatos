{
 "cells": [
  {
   "cell_type": "markdown",
   "metadata": {},
   "source": [
    "Diplodatos 2019  \n",
    "Santiago Alcaide  \n",
    "Grupo Omega"
   ]
  },
  {
   "cell_type": "markdown",
   "metadata": {},
   "source": [
    "# Laboratorio 2: Armado de un esquema de aprendizaje automático\n",
    "\n",
    "En el laboratorio final se espera que puedan poner en práctica los conocimientos adquiridos en el curso, trabajando con un conjunto de datos de clasificación.\n",
    "\n",
    "El objetivo es que se introduzcan en el desarrollo de un esquema para hacer tareas de aprendizaje automático: selección de un modelo, ajuste de hiperparámetros y evaluación.\n",
    "\n",
    "El conjunto de datos a utilizar está en `./data/loan_data.csv`. Si abren el archivo verán que al principio (las líneas que empiezan con `#`) describen el conjunto de datos y sus atributos (incluyendo el atributo de etiqueta o clase).\n",
    "\n",
    "Se espera que hagan uso de las herramientas vistas en el curso. Se espera que hagan uso especialmente de las herramientas brindadas por `scikit-learn`."
   ]
  },
  {
   "cell_type": "markdown",
   "metadata": {},
   "source": [
    "## El notebook está organizado de la siguiente manera\n",
    "\n",
    "**Carga de datos**  \n",
    "**Exploración**  \n",
    "**Evaluación de modelos**  \n",
    "-SGD, hiperparámetros por defecto  \n",
    "-SGD, búsqueda con GridsearchCV  \n",
    "-Decision Tree, hiperparámetros por defecto  \n",
    "-Decision Tree, búsqueda con GridSearchCV  \n",
    "**Reducción de dimensionalidad**  \n",
    "-PCA   \n",
    "-Greedy elimination  \n",
    "**Balanceo: oversampling**  \n",
    "**Neural Networks**\n",
    "\n",
    "A su vez se evalúa en cada aplicación de modelos el efecto de **normalizar** los datos.  \n",
    "Finalmente se presentan gráficos comparativos acerca del rendimiento de los diferentes modelos evaluados."
   ]
  },
  {
   "cell_type": "code",
   "execution_count": 144,
   "metadata": {},
   "outputs": [],
   "source": [
    "import numpy as np\n",
    "import pandas as pd\n",
    "import matplotlib.pyplot as plt\n",
    "import seaborn as sns\n",
    "\n",
    "# TODO: Agregar las librerías que hagan falta\n",
    "from ml.visualization import plot_confusion_matrix, plot_learning_curve\n",
    "\n",
    "from sklearn.preprocessing import StandardScaler\n",
    "from sklearn.model_selection import train_test_split\n",
    "from sklearn.linear_model import LinearRegression\n",
    "from sklearn.linear_model import SGDClassifier\n",
    "from sklearn.metrics import accuracy_score, classification_report, confusion_matrix\n",
    "from sklearn.model_selection import GridSearchCV\n",
    "from sklearn.tree import DecisionTreeClassifier as DT\n",
    "from sklearn.decomposition import PCA\n",
    "from sklearn import neural_network\n",
    "\n",
    "np.random.seed(0)  # Para mayor determinismo"
   ]
  },
  {
   "cell_type": "markdown",
   "metadata": {},
   "source": [
    "## Carga de datos y división en entrenamiento y evaluación\n",
    "\n",
    "La celda siguiente se encarga de la carga de datos (haciendo uso de pandas). Estos serán los que se trabajarán en el resto del laboratorio."
   ]
  },
  {
   "cell_type": "code",
   "execution_count": 2,
   "metadata": {},
   "outputs": [],
   "source": [
    "root = 'C:/Users/santi/Documents/diplodatos/3IntroduccionAprendizajeAutomatico/data/'"
   ]
  },
  {
   "cell_type": "code",
   "execution_count": 5,
   "metadata": {},
   "outputs": [],
   "source": [
    "pd.options.display.max_rows = 12"
   ]
  },
  {
   "cell_type": "code",
   "execution_count": 3,
   "metadata": {},
   "outputs": [],
   "source": [
    "dataset = pd.read_csv(root+'loan_data.csv',comment=\"#\")"
   ]
  },
  {
   "cell_type": "code",
   "execution_count": 4,
   "metadata": {},
   "outputs": [],
   "source": [
    "# División entre instancias y etiquetas\n",
    "X, y = dataset.iloc[:, 1:], dataset.TARGET\n",
    "\n",
    "# división entre entrenamiento y evaluación\n",
    "X_train, X_test, y_train, y_test = train_test_split(X, y, test_size=0.2,\n",
    "                                                    random_state=0)"
   ]
  },
  {
   "cell_type": "code",
   "execution_count": 148,
   "metadata": {},
   "outputs": [],
   "source": [
    "data = dataset\n",
    "ndata = data\n",
    "sc = StandardScaler()\n",
    "ndata = pd.DataFrame(sc.fit_transform(ndata), columns=data.columns)"
   ]
  },
  {
   "cell_type": "code",
   "execution_count": 151,
   "metadata": {},
   "outputs": [],
   "source": [
    "import warnings \n",
    "warnings.filterwarnings('ignore') #Desactivadas para mayor comodidad."
   ]
  },
  {
   "cell_type": "markdown",
   "metadata": {},
   "source": [
    "\n",
    "Documentación:\n",
    "\n",
    "- https://scikit-learn.org/stable/modules/generated/sklearn.model_selection.train_test_split.html"
   ]
  },
  {
   "cell_type": "markdown",
   "metadata": {},
   "source": [
    "## Ejercicio 1: Descripción de los Datos y la Tarea\n",
    "\n",
    "Responder las siguientes preguntas:\n",
    "\n",
    "1. ¿De qué se trata el conjunto de datos?  \n",
    "Describe una serie de préstamos realizados, según 12 características de entrada junto a una etiqueta objetivo en cada caso.      \n",
    "  \n",
    "  \n",
    "2. ¿Cuál es la variable objetivo que hay que predecir? ¿Qué significado tiene?  \n",
    "La variable objetivo es 'TARGET'. Indica si un préstamo determinado fue cancelado efectivamente por un pago (TARGET = 0, 'loan repaid') o no (TARGET = 1, 'client defaulted on loan').    \n",
    "   \n",
    "   \n",
    "3. ¿Qué información (atributos) hay disponible para hacer la predicción?  \n",
    "La información se refiere a la condición financiera del solicitante del préstamo.    \n",
    "Los 12 atributos son\n",
    " * LOAN - Cantidad solicitada de dinero \n",
    " * MORTDUE - Deuda hipotecaria actual\n",
    " * VALUE - Valor de la propiedad actual\n",
    " * YOJ - Años de trabajo en el empleo actual\n",
    " * DEROG - Cantidad de reportes de deuda importantes\n",
    " * DELINQ - Cantidad de líneas de crédito morosas\n",
    " * CLAGE - Antigüedad en meses de la última línea de comercio\n",
    " * NINQ - Cantidad de líneas de crédito recientes\n",
    " * CLNO - Cantidad de líneas de crédito\n",
    " * DEBTINC - Relación deuda/ingreso\n",
    " \n",
    " \n",
    "4. ¿Qué atributos imagina ud. que son los más determinantes para la predicción?  \n",
    "DEBTINC y LOAN probablemente sean los más determinantes.\n",
    "\n",
    "**No hace falta escribir código para responder estas preguntas.**"
   ]
  },
  {
   "cell_type": "markdown",
   "metadata": {},
   "source": [
    "## Exploración"
   ]
  },
  {
   "cell_type": "code",
   "execution_count": 20,
   "metadata": {},
   "outputs": [
    {
     "data": {
      "text/plain": [
       "(1854, 11)"
      ]
     },
     "execution_count": 20,
     "metadata": {},
     "output_type": "execute_result"
    }
   ],
   "source": [
    "data.shape"
   ]
  },
  {
   "cell_type": "code",
   "execution_count": 21,
   "metadata": {},
   "outputs": [
    {
     "data": {
      "text/html": [
       "<div>\n",
       "<style scoped>\n",
       "    .dataframe tbody tr th:only-of-type {\n",
       "        vertical-align: middle;\n",
       "    }\n",
       "\n",
       "    .dataframe tbody tr th {\n",
       "        vertical-align: top;\n",
       "    }\n",
       "\n",
       "    .dataframe thead th {\n",
       "        text-align: right;\n",
       "    }\n",
       "</style>\n",
       "<table border=\"1\" class=\"dataframe\">\n",
       "  <thead>\n",
       "    <tr style=\"text-align: right;\">\n",
       "      <th></th>\n",
       "      <th>TARGET</th>\n",
       "      <th>LOAN</th>\n",
       "      <th>MORTDUE</th>\n",
       "      <th>VALUE</th>\n",
       "      <th>YOJ</th>\n",
       "      <th>DEROG</th>\n",
       "      <th>DELINQ</th>\n",
       "      <th>CLAGE</th>\n",
       "      <th>NINQ</th>\n",
       "      <th>CLNO</th>\n",
       "      <th>DEBTINC</th>\n",
       "    </tr>\n",
       "  </thead>\n",
       "  <tbody>\n",
       "    <tr>\n",
       "      <th>0</th>\n",
       "      <td>0</td>\n",
       "      <td>4700</td>\n",
       "      <td>88026.0</td>\n",
       "      <td>115506.0</td>\n",
       "      <td>6.0</td>\n",
       "      <td>0.0</td>\n",
       "      <td>0.0</td>\n",
       "      <td>182.248332</td>\n",
       "      <td>0.0</td>\n",
       "      <td>27.0</td>\n",
       "      <td>29.209023</td>\n",
       "    </tr>\n",
       "    <tr>\n",
       "      <th>1</th>\n",
       "      <td>0</td>\n",
       "      <td>19300</td>\n",
       "      <td>39926.0</td>\n",
       "      <td>101208.0</td>\n",
       "      <td>4.0</td>\n",
       "      <td>0.0</td>\n",
       "      <td>0.0</td>\n",
       "      <td>140.051638</td>\n",
       "      <td>0.0</td>\n",
       "      <td>14.0</td>\n",
       "      <td>31.545694</td>\n",
       "    </tr>\n",
       "    <tr>\n",
       "      <th>2</th>\n",
       "      <td>0</td>\n",
       "      <td>5700</td>\n",
       "      <td>71556.0</td>\n",
       "      <td>79538.0</td>\n",
       "      <td>2.0</td>\n",
       "      <td>0.0</td>\n",
       "      <td>0.0</td>\n",
       "      <td>92.643085</td>\n",
       "      <td>0.0</td>\n",
       "      <td>15.0</td>\n",
       "      <td>41.210012</td>\n",
       "    </tr>\n",
       "    <tr>\n",
       "      <th>3</th>\n",
       "      <td>0</td>\n",
       "      <td>13000</td>\n",
       "      <td>44875.0</td>\n",
       "      <td>57713.0</td>\n",
       "      <td>0.0</td>\n",
       "      <td>1.0</td>\n",
       "      <td>0.0</td>\n",
       "      <td>184.990324</td>\n",
       "      <td>1.0</td>\n",
       "      <td>12.0</td>\n",
       "      <td>28.602076</td>\n",
       "    </tr>\n",
       "    <tr>\n",
       "      <th>4</th>\n",
       "      <td>0</td>\n",
       "      <td>19300</td>\n",
       "      <td>72752.0</td>\n",
       "      <td>106084.0</td>\n",
       "      <td>11.0</td>\n",
       "      <td>0.0</td>\n",
       "      <td>0.0</td>\n",
       "      <td>193.707100</td>\n",
       "      <td>1.0</td>\n",
       "      <td>13.0</td>\n",
       "      <td>30.686106</td>\n",
       "    </tr>\n",
       "  </tbody>\n",
       "</table>\n",
       "</div>"
      ],
      "text/plain": [
       "   TARGET   LOAN  MORTDUE     VALUE   YOJ  DEROG  DELINQ       CLAGE  NINQ  \\\n",
       "0       0   4700  88026.0  115506.0   6.0    0.0     0.0  182.248332   0.0   \n",
       "1       0  19300  39926.0  101208.0   4.0    0.0     0.0  140.051638   0.0   \n",
       "2       0   5700  71556.0   79538.0   2.0    0.0     0.0   92.643085   0.0   \n",
       "3       0  13000  44875.0   57713.0   0.0    1.0     0.0  184.990324   1.0   \n",
       "4       0  19300  72752.0  106084.0  11.0    0.0     0.0  193.707100   1.0   \n",
       "\n",
       "   CLNO    DEBTINC  \n",
       "0  27.0  29.209023  \n",
       "1  14.0  31.545694  \n",
       "2  15.0  41.210012  \n",
       "3  12.0  28.602076  \n",
       "4  13.0  30.686106  "
      ]
     },
     "execution_count": 21,
     "metadata": {},
     "output_type": "execute_result"
    }
   ],
   "source": [
    "data.head()"
   ]
  },
  {
   "cell_type": "markdown",
   "metadata": {},
   "source": [
    "Balance de clases"
   ]
  },
  {
   "cell_type": "code",
   "execution_count": 9,
   "metadata": {},
   "outputs": [
    {
     "data": {
      "text/plain": [
       "0    1545\n",
       "1     309\n",
       "Name: TARGET, dtype: int64"
      ]
     },
     "execution_count": 9,
     "metadata": {},
     "output_type": "execute_result"
    }
   ],
   "source": [
    "data.TARGET.value_counts()"
   ]
  },
  {
   "cell_type": "code",
   "execution_count": 13,
   "metadata": {},
   "outputs": [
    {
     "data": {
      "text/plain": [
       "<matplotlib.axes._subplots.AxesSubplot at 0x17f775b26d8>"
      ]
     },
     "execution_count": 13,
     "metadata": {},
     "output_type": "execute_result"
    },
    {
     "data": {
      "image/png": "[encoded data removed]",
      "text/plain": [
       "<Figure size 432x288 with 1 Axes>"
      ]
     },
     "metadata": {
      "needs_background": "light"
     },
     "output_type": "display_data"
    }
   ],
   "source": [
    "sns.countplot(data.TARGET)"
   ]
  },
  {
   "cell_type": "code",
   "execution_count": 10,
   "metadata": {},
   "outputs": [
    {
     "data": {
      "text/plain": [
       "5.0"
      ]
     },
     "execution_count": 10,
     "metadata": {},
     "output_type": "execute_result"
    }
   ],
   "source": [
    "data.TARGET.value_counts()[0]/data.TARGET.value_counts()[1]"
   ]
  },
  {
   "cell_type": "markdown",
   "metadata": {},
   "source": [
    "El set está desbalanciado, en relación 5 a 1 a favor de TARGET = 0. Es decir, la mayoría de los datos es para clientes que devuelven el préstamo."
   ]
  },
  {
   "cell_type": "code",
   "execution_count": 14,
   "metadata": {
    "scrolled": true
   },
   "outputs": [
    {
     "data": {
      "text/html": [
       "<div>\n",
       "<style scoped>\n",
       "    .dataframe tbody tr th:only-of-type {\n",
       "        vertical-align: middle;\n",
       "    }\n",
       "\n",
       "    .dataframe tbody tr th {\n",
       "        vertical-align: top;\n",
       "    }\n",
       "\n",
       "    .dataframe thead th {\n",
       "        text-align: right;\n",
       "    }\n",
       "</style>\n",
       "<table border=\"1\" class=\"dataframe\">\n",
       "  <thead>\n",
       "    <tr style=\"text-align: right;\">\n",
       "      <th></th>\n",
       "      <th>TARGET</th>\n",
       "      <th>LOAN</th>\n",
       "      <th>MORTDUE</th>\n",
       "      <th>VALUE</th>\n",
       "      <th>YOJ</th>\n",
       "      <th>DEROG</th>\n",
       "      <th>DELINQ</th>\n",
       "      <th>CLAGE</th>\n",
       "      <th>NINQ</th>\n",
       "      <th>CLNO</th>\n",
       "      <th>DEBTINC</th>\n",
       "    </tr>\n",
       "  </thead>\n",
       "  <tbody>\n",
       "    <tr>\n",
       "      <th>count</th>\n",
       "      <td>1854.000000</td>\n",
       "      <td>1854.000000</td>\n",
       "      <td>1854.000000</td>\n",
       "      <td>1854.000000</td>\n",
       "      <td>1854.000000</td>\n",
       "      <td>1854.000000</td>\n",
       "      <td>1854.000000</td>\n",
       "      <td>1854.000000</td>\n",
       "      <td>1854.000000</td>\n",
       "      <td>1854.000000</td>\n",
       "      <td>1854.000000</td>\n",
       "    </tr>\n",
       "    <tr>\n",
       "      <th>mean</th>\n",
       "      <td>0.166667</td>\n",
       "      <td>19111.758360</td>\n",
       "      <td>76316.051780</td>\n",
       "      <td>107321.088457</td>\n",
       "      <td>8.900216</td>\n",
       "      <td>0.187702</td>\n",
       "      <td>0.319849</td>\n",
       "      <td>180.300783</td>\n",
       "      <td>1.128910</td>\n",
       "      <td>21.857066</td>\n",
       "      <td>34.573408</td>\n",
       "    </tr>\n",
       "    <tr>\n",
       "      <th>std</th>\n",
       "      <td>0.372779</td>\n",
       "      <td>11000.345961</td>\n",
       "      <td>46227.026585</td>\n",
       "      <td>56039.685066</td>\n",
       "      <td>7.552677</td>\n",
       "      <td>0.704882</td>\n",
       "      <td>0.928452</td>\n",
       "      <td>84.838308</td>\n",
       "      <td>1.664555</td>\n",
       "      <td>9.510840</td>\n",
       "      <td>9.308794</td>\n",
       "    </tr>\n",
       "    <tr>\n",
       "      <th>min</th>\n",
       "      <td>0.000000</td>\n",
       "      <td>1700.000000</td>\n",
       "      <td>5627.000000</td>\n",
       "      <td>21144.000000</td>\n",
       "      <td>0.000000</td>\n",
       "      <td>0.000000</td>\n",
       "      <td>0.000000</td>\n",
       "      <td>0.486711</td>\n",
       "      <td>0.000000</td>\n",
       "      <td>0.000000</td>\n",
       "      <td>0.838118</td>\n",
       "    </tr>\n",
       "    <tr>\n",
       "      <th>25%</th>\n",
       "      <td>0.000000</td>\n",
       "      <td>12000.000000</td>\n",
       "      <td>48984.750000</td>\n",
       "      <td>70787.250000</td>\n",
       "      <td>3.000000</td>\n",
       "      <td>0.000000</td>\n",
       "      <td>0.000000</td>\n",
       "      <td>116.970718</td>\n",
       "      <td>0.000000</td>\n",
       "      <td>16.000000</td>\n",
       "      <td>29.427210</td>\n",
       "    </tr>\n",
       "    <tr>\n",
       "      <th>50%</th>\n",
       "      <td>0.000000</td>\n",
       "      <td>17000.000000</td>\n",
       "      <td>67201.000000</td>\n",
       "      <td>94198.000000</td>\n",
       "      <td>7.000000</td>\n",
       "      <td>0.000000</td>\n",
       "      <td>0.000000</td>\n",
       "      <td>174.967815</td>\n",
       "      <td>1.000000</td>\n",
       "      <td>21.000000</td>\n",
       "      <td>35.363407</td>\n",
       "    </tr>\n",
       "    <tr>\n",
       "      <th>75%</th>\n",
       "      <td>0.000000</td>\n",
       "      <td>23900.000000</td>\n",
       "      <td>93731.500000</td>\n",
       "      <td>122976.250000</td>\n",
       "      <td>13.000000</td>\n",
       "      <td>0.000000</td>\n",
       "      <td>0.000000</td>\n",
       "      <td>232.261800</td>\n",
       "      <td>2.000000</td>\n",
       "      <td>27.000000</td>\n",
       "      <td>39.357987</td>\n",
       "    </tr>\n",
       "    <tr>\n",
       "      <th>max</th>\n",
       "      <td>1.000000</td>\n",
       "      <td>89800.000000</td>\n",
       "      <td>399412.000000</td>\n",
       "      <td>512650.000000</td>\n",
       "      <td>41.000000</td>\n",
       "      <td>10.000000</td>\n",
       "      <td>10.000000</td>\n",
       "      <td>1168.233561</td>\n",
       "      <td>13.000000</td>\n",
       "      <td>65.000000</td>\n",
       "      <td>144.189001</td>\n",
       "    </tr>\n",
       "  </tbody>\n",
       "</table>\n",
       "</div>"
      ],
      "text/plain": [
       "            TARGET          LOAN        MORTDUE          VALUE          YOJ  \\\n",
       "count  1854.000000   1854.000000    1854.000000    1854.000000  1854.000000   \n",
       "mean      0.166667  19111.758360   76316.051780  107321.088457     8.900216   \n",
       "std       0.372779  11000.345961   46227.026585   56039.685066     7.552677   \n",
       "min       0.000000   1700.000000    5627.000000   21144.000000     0.000000   \n",
       "25%       0.000000  12000.000000   48984.750000   70787.250000     3.000000   \n",
       "50%       0.000000  17000.000000   67201.000000   94198.000000     7.000000   \n",
       "75%       0.000000  23900.000000   93731.500000  122976.250000    13.000000   \n",
       "max       1.000000  89800.000000  399412.000000  512650.000000    41.000000   \n",
       "\n",
       "             DEROG       DELINQ        CLAGE         NINQ         CLNO  \\\n",
       "count  1854.000000  1854.000000  1854.000000  1854.000000  1854.000000   \n",
       "mean      0.187702     0.319849   180.300783     1.128910    21.857066   \n",
       "std       0.704882     0.928452    84.838308     1.664555     9.510840   \n",
       "min       0.000000     0.000000     0.486711     0.000000     0.000000   \n",
       "25%       0.000000     0.000000   116.970718     0.000000    16.000000   \n",
       "50%       0.000000     0.000000   174.967815     1.000000    21.000000   \n",
       "75%       0.000000     0.000000   232.261800     2.000000    27.000000   \n",
       "max      10.000000    10.000000  1168.233561    13.000000    65.000000   \n",
       "\n",
       "           DEBTINC  \n",
       "count  1854.000000  \n",
       "mean     34.573408  \n",
       "std       9.308794  \n",
       "min       0.838118  \n",
       "25%      29.427210  \n",
       "50%      35.363407  \n",
       "75%      39.357987  \n",
       "max     144.189001  "
      ]
     },
     "execution_count": 14,
     "metadata": {},
     "output_type": "execute_result"
    }
   ],
   "source": [
    "data.describe()"
   ]
  },
  {
   "cell_type": "code",
   "execution_count": 15,
   "metadata": {},
   "outputs": [
    {
     "name": "stdout",
     "output_type": "stream",
     "text": [
      "<class 'pandas.core.frame.DataFrame'>\n",
      "RangeIndex: 1854 entries, 0 to 1853\n",
      "Data columns (total 11 columns):\n",
      "TARGET     1854 non-null int64\n",
      "LOAN       1854 non-null int64\n",
      "MORTDUE    1854 non-null float64\n",
      "VALUE      1854 non-null float64\n",
      "YOJ        1854 non-null float64\n",
      "DEROG      1854 non-null float64\n",
      "DELINQ     1854 non-null float64\n",
      "CLAGE      1854 non-null float64\n",
      "NINQ       1854 non-null float64\n",
      "CLNO       1854 non-null float64\n",
      "DEBTINC    1854 non-null float64\n",
      "dtypes: float64(9), int64(2)\n",
      "memory usage: 159.4 KB\n"
     ]
    }
   ],
   "source": [
    "data.info()"
   ]
  },
  {
   "cell_type": "markdown",
   "metadata": {},
   "source": [
    "**Buscando NaNs**"
   ]
  },
  {
   "cell_type": "code",
   "execution_count": 23,
   "metadata": {
    "scrolled": true
   },
   "outputs": [
    {
     "data": {
      "text/plain": [
       "0"
      ]
     },
     "execution_count": 23,
     "metadata": {},
     "output_type": "execute_result"
    }
   ],
   "source": [
    "data.isnull().sum().sum()"
   ]
  },
  {
   "cell_type": "markdown",
   "metadata": {},
   "source": [
    "**Correlación entre features**"
   ]
  },
  {
   "cell_type": "code",
   "execution_count": 93,
   "metadata": {
    "scrolled": true
   },
   "outputs": [
    {
     "data": {
      "image/png": "[encoded data removed]",
      "text/plain": [
       "<Figure size 720x720 with 2 Axes>"
      ]
     },
     "metadata": {
      "needs_background": "light"
     },
     "output_type": "display_data"
    }
   ],
   "source": [
    "f = plt.figure(figsize=(10, 10))\n",
    "plt.matshow(data.corr(), fignum=f.number)\n",
    "plt.xticks(range(data.shape[1]), data.columns, fontsize=14, rotation=45)\n",
    "plt.yticks(range(data.shape[1]), data.columns, fontsize=14)\n",
    "cb = plt.colorbar()\n",
    "cb.ax.tick_params(labelsize=14)"
   ]
  },
  {
   "cell_type": "markdown",
   "metadata": {},
   "source": [
    "No hay correlaciones fuertes con la variable TARGET:"
   ]
  },
  {
   "cell_type": "code",
   "execution_count": 91,
   "metadata": {
    "scrolled": true
   },
   "outputs": [
    {
     "name": "stdout",
     "output_type": "stream",
     "text": [
      "Coeficiente de correlación vs TARGET\n",
      "\n",
      "Mayor a 0.1:\n",
      "Index(['TARGET', 'DELINQ'], dtype='object')\n",
      "Mayor a 0.3:\n",
      "Index(['TARGET', 'DEROG', 'DELINQ', 'NINQ', 'DEBTINC'], dtype='object')\n"
     ]
    }
   ],
   "source": [
    "print('Coeficiente de correlación vs TARGET')\n",
    "print('\\nMayor a 0.1:')\n",
    "index=(data.corr()['TARGET']>0.3).values\n",
    "print(data.columns[index])\n",
    "print('Mayor a 0.3:')\n",
    "index=(data.corr()['TARGET']>0.1).values\n",
    "print(data.columns[index])\n"
   ]
  },
  {
   "cell_type": "markdown",
   "metadata": {},
   "source": [
    "Si parece haber una correlación interesante entre las variables MORTDUE y VALUE según la matriz, lo que sugiere la posibilidad de una reducción de la dimensionalidad"
   ]
  },
  {
   "cell_type": "code",
   "execution_count": 109,
   "metadata": {
    "scrolled": true
   },
   "outputs": [
    {
     "data": {
      "text/plain": [
       "0.8704382753329427"
      ]
     },
     "execution_count": 109,
     "metadata": {},
     "output_type": "execute_result"
    }
   ],
   "source": [
    "data['VALUE'].corr(data['MORTDUE'])"
   ]
  },
  {
   "cell_type": "markdown",
   "metadata": {},
   "source": [
    "En menor medida, entre VALUE y LOAN. En este caso es poco significativo"
   ]
  },
  {
   "cell_type": "code",
   "execution_count": 110,
   "metadata": {},
   "outputs": [
    {
     "data": {
      "text/plain": [
       "0.405930577419662"
      ]
     },
     "execution_count": 110,
     "metadata": {},
     "output_type": "execute_result"
    }
   ],
   "source": [
    "data['VALUE'].corr(data['LOAN'])"
   ]
  },
  {
   "cell_type": "code",
   "execution_count": 115,
   "metadata": {
    "scrolled": false
   },
   "outputs": [
    {
     "data": {
      "text/html": [
       "<div>\n",
       "<style scoped>\n",
       "    .dataframe tbody tr th:only-of-type {\n",
       "        vertical-align: middle;\n",
       "    }\n",
       "\n",
       "    .dataframe tbody tr th {\n",
       "        vertical-align: top;\n",
       "    }\n",
       "\n",
       "    .dataframe thead th {\n",
       "        text-align: right;\n",
       "    }\n",
       "</style>\n",
       "<table border=\"1\" class=\"dataframe\">\n",
       "  <thead>\n",
       "    <tr style=\"text-align: right;\">\n",
       "      <th></th>\n",
       "      <th>TARGET</th>\n",
       "      <th>LOAN</th>\n",
       "      <th>MORTDUE</th>\n",
       "      <th>VALUE</th>\n",
       "      <th>YOJ</th>\n",
       "      <th>DEROG</th>\n",
       "      <th>DELINQ</th>\n",
       "      <th>CLAGE</th>\n",
       "      <th>NINQ</th>\n",
       "      <th>CLNO</th>\n",
       "      <th>DEBTINC</th>\n",
       "    </tr>\n",
       "  </thead>\n",
       "  <tbody>\n",
       "    <tr>\n",
       "      <th>TARGET</th>\n",
       "      <td>True</td>\n",
       "      <td>False</td>\n",
       "      <td>False</td>\n",
       "      <td>False</td>\n",
       "      <td>False</td>\n",
       "      <td>False</td>\n",
       "      <td>False</td>\n",
       "      <td>False</td>\n",
       "      <td>False</td>\n",
       "      <td>False</td>\n",
       "      <td>False</td>\n",
       "    </tr>\n",
       "    <tr>\n",
       "      <th>LOAN</th>\n",
       "      <td>False</td>\n",
       "      <td>True</td>\n",
       "      <td>False</td>\n",
       "      <td>False</td>\n",
       "      <td>False</td>\n",
       "      <td>False</td>\n",
       "      <td>False</td>\n",
       "      <td>False</td>\n",
       "      <td>False</td>\n",
       "      <td>False</td>\n",
       "      <td>False</td>\n",
       "    </tr>\n",
       "    <tr>\n",
       "      <th>MORTDUE</th>\n",
       "      <td>False</td>\n",
       "      <td>False</td>\n",
       "      <td>True</td>\n",
       "      <td>True</td>\n",
       "      <td>False</td>\n",
       "      <td>False</td>\n",
       "      <td>False</td>\n",
       "      <td>False</td>\n",
       "      <td>False</td>\n",
       "      <td>False</td>\n",
       "      <td>False</td>\n",
       "    </tr>\n",
       "    <tr>\n",
       "      <th>VALUE</th>\n",
       "      <td>False</td>\n",
       "      <td>False</td>\n",
       "      <td>True</td>\n",
       "      <td>True</td>\n",
       "      <td>False</td>\n",
       "      <td>False</td>\n",
       "      <td>False</td>\n",
       "      <td>False</td>\n",
       "      <td>False</td>\n",
       "      <td>False</td>\n",
       "      <td>False</td>\n",
       "    </tr>\n",
       "    <tr>\n",
       "      <th>YOJ</th>\n",
       "      <td>False</td>\n",
       "      <td>False</td>\n",
       "      <td>False</td>\n",
       "      <td>False</td>\n",
       "      <td>True</td>\n",
       "      <td>False</td>\n",
       "      <td>False</td>\n",
       "      <td>False</td>\n",
       "      <td>False</td>\n",
       "      <td>False</td>\n",
       "      <td>False</td>\n",
       "    </tr>\n",
       "    <tr>\n",
       "      <th>DEROG</th>\n",
       "      <td>False</td>\n",
       "      <td>False</td>\n",
       "      <td>False</td>\n",
       "      <td>False</td>\n",
       "      <td>False</td>\n",
       "      <td>True</td>\n",
       "      <td>False</td>\n",
       "      <td>False</td>\n",
       "      <td>False</td>\n",
       "      <td>False</td>\n",
       "      <td>False</td>\n",
       "    </tr>\n",
       "    <tr>\n",
       "      <th>DELINQ</th>\n",
       "      <td>False</td>\n",
       "      <td>False</td>\n",
       "      <td>False</td>\n",
       "      <td>False</td>\n",
       "      <td>False</td>\n",
       "      <td>False</td>\n",
       "      <td>True</td>\n",
       "      <td>False</td>\n",
       "      <td>False</td>\n",
       "      <td>False</td>\n",
       "      <td>False</td>\n",
       "    </tr>\n",
       "    <tr>\n",
       "      <th>CLAGE</th>\n",
       "      <td>False</td>\n",
       "      <td>False</td>\n",
       "      <td>False</td>\n",
       "      <td>False</td>\n",
       "      <td>False</td>\n",
       "      <td>False</td>\n",
       "      <td>False</td>\n",
       "      <td>True</td>\n",
       "      <td>False</td>\n",
       "      <td>False</td>\n",
       "      <td>False</td>\n",
       "    </tr>\n",
       "    <tr>\n",
       "      <th>NINQ</th>\n",
       "      <td>False</td>\n",
       "      <td>False</td>\n",
       "      <td>False</td>\n",
       "      <td>False</td>\n",
       "      <td>False</td>\n",
       "      <td>False</td>\n",
       "      <td>False</td>\n",
       "      <td>False</td>\n",
       "      <td>True</td>\n",
       "      <td>False</td>\n",
       "      <td>False</td>\n",
       "    </tr>\n",
       "    <tr>\n",
       "      <th>CLNO</th>\n",
       "      <td>False</td>\n",
       "      <td>False</td>\n",
       "      <td>False</td>\n",
       "      <td>False</td>\n",
       "      <td>False</td>\n",
       "      <td>False</td>\n",
       "      <td>False</td>\n",
       "      <td>False</td>\n",
       "      <td>False</td>\n",
       "      <td>True</td>\n",
       "      <td>False</td>\n",
       "    </tr>\n",
       "    <tr>\n",
       "      <th>DEBTINC</th>\n",
       "      <td>False</td>\n",
       "      <td>False</td>\n",
       "      <td>False</td>\n",
       "      <td>False</td>\n",
       "      <td>False</td>\n",
       "      <td>False</td>\n",
       "      <td>False</td>\n",
       "      <td>False</td>\n",
       "      <td>False</td>\n",
       "      <td>False</td>\n",
       "      <td>True</td>\n",
       "    </tr>\n",
       "  </tbody>\n",
       "</table>\n",
       "</div>"
      ],
      "text/plain": [
       "         TARGET   LOAN  MORTDUE  VALUE    YOJ  DEROG  DELINQ  CLAGE   NINQ  \\\n",
       "TARGET     True  False    False  False  False  False   False  False  False   \n",
       "LOAN      False   True    False  False  False  False   False  False  False   \n",
       "MORTDUE   False  False     True   True  False  False   False  False  False   \n",
       "VALUE     False  False     True   True  False  False   False  False  False   \n",
       "YOJ       False  False    False  False   True  False   False  False  False   \n",
       "DEROG     False  False    False  False  False   True   False  False  False   \n",
       "DELINQ    False  False    False  False  False  False    True  False  False   \n",
       "CLAGE     False  False    False  False  False  False   False   True  False   \n",
       "NINQ      False  False    False  False  False  False   False  False   True   \n",
       "CLNO      False  False    False  False  False  False   False  False  False   \n",
       "DEBTINC   False  False    False  False  False  False   False  False  False   \n",
       "\n",
       "          CLNO  DEBTINC  \n",
       "TARGET   False    False  \n",
       "LOAN     False    False  \n",
       "MORTDUE  False    False  \n",
       "VALUE    False    False  \n",
       "YOJ      False    False  \n",
       "DEROG    False    False  \n",
       "DELINQ   False    False  \n",
       "CLAGE    False    False  \n",
       "NINQ     False    False  \n",
       "CLNO      True    False  \n",
       "DEBTINC  False     True  "
      ]
     },
     "execution_count": 115,
     "metadata": {},
     "output_type": "execute_result"
    }
   ],
   "source": [
    "data.corr()>0.5"
   ]
  },
  {
   "cell_type": "markdown",
   "metadata": {},
   "source": [
    "MORTDUE y VALUE efectivamente muestran la mayor correlación y la única de importancia"
   ]
  },
  {
   "cell_type": "markdown",
   "metadata": {},
   "source": [
    "**Búsqueda de outliers**"
   ]
  },
  {
   "cell_type": "code",
   "execution_count": 124,
   "metadata": {
    "scrolled": true
   },
   "outputs": [
    {
     "data": {
      "text/plain": [
       "<matplotlib.axes._subplots.AxesSubplot at 0x17f77cf0b38>"
      ]
     },
     "execution_count": 124,
     "metadata": {},
     "output_type": "execute_result"
    },
    {
     "data": {
      "image/png": "[encoded data removed]",
      "text/plain": [
       "<Figure size 432x288 with 1 Axes>"
      ]
     },
     "metadata": {
      "needs_background": "light"
     },
     "output_type": "display_data"
    }
   ],
   "source": [
    "sns.boxplot(data=data)"
   ]
  },
  {
   "cell_type": "markdown",
   "metadata": {},
   "source": [
    "Las magnitudes son de diferente orden en las variables. En un mismo gráfico, observar las distribuciones normalizadas. Como alternativa, examinar una por una."
   ]
  },
  {
   "cell_type": "code",
   "execution_count": 147,
   "metadata": {},
   "outputs": [
    {
     "data": {
      "text/plain": [
       "(array([ 0,  1,  2,  3,  4,  5,  6,  7,  8,  9, 10]),\n",
       " <a list of 11 Text xticklabel objects>)"
      ]
     },
     "execution_count": 147,
     "metadata": {},
     "output_type": "execute_result"
    },
    {
     "data": {
      "image/png": "[encoded data removed]",
      "text/plain": [
       "<Figure size 432x288 with 1 Axes>"
      ]
     },
     "metadata": {
      "needs_background": "light"
     },
     "output_type": "display_data"
    }
   ],
   "source": [
    "ax = sns.boxplot(data=ndata)\n",
    "#ax.set_xticklabels(data.columns)\n",
    "plt.xticks(rotation=45)"
   ]
  },
  {
   "cell_type": "code",
   "execution_count": 161,
   "metadata": {},
   "outputs": [
    {
     "data": {
      "text/html": [
       "<div>\n",
       "<style scoped>\n",
       "    .dataframe tbody tr th:only-of-type {\n",
       "        vertical-align: middle;\n",
       "    }\n",
       "\n",
       "    .dataframe tbody tr th {\n",
       "        vertical-align: top;\n",
       "    }\n",
       "\n",
       "    .dataframe thead th {\n",
       "        text-align: right;\n",
       "    }\n",
       "</style>\n",
       "<table border=\"1\" class=\"dataframe\">\n",
       "  <thead>\n",
       "    <tr style=\"text-align: right;\">\n",
       "      <th></th>\n",
       "      <th>TARGET</th>\n",
       "      <th>LOAN</th>\n",
       "      <th>MORTDUE</th>\n",
       "      <th>VALUE</th>\n",
       "      <th>YOJ</th>\n",
       "      <th>DEROG</th>\n",
       "      <th>DELINQ</th>\n",
       "      <th>CLAGE</th>\n",
       "      <th>NINQ</th>\n",
       "      <th>CLNO</th>\n",
       "      <th>DEBTINC</th>\n",
       "    </tr>\n",
       "  </thead>\n",
       "  <tbody>\n",
       "    <tr>\n",
       "      <th>count</th>\n",
       "      <td>1.854000e+03</td>\n",
       "      <td>1.854000e+03</td>\n",
       "      <td>1.854000e+03</td>\n",
       "      <td>1.854000e+03</td>\n",
       "      <td>1.854000e+03</td>\n",
       "      <td>1.854000e+03</td>\n",
       "      <td>1.854000e+03</td>\n",
       "      <td>1.854000e+03</td>\n",
       "      <td>1.854000e+03</td>\n",
       "      <td>1.854000e+03</td>\n",
       "      <td>1.854000e+03</td>\n",
       "    </tr>\n",
       "    <tr>\n",
       "      <th>mean</th>\n",
       "      <td>1.807017e-15</td>\n",
       "      <td>3.832485e-18</td>\n",
       "      <td>-2.887837e-17</td>\n",
       "      <td>-1.101839e-17</td>\n",
       "      <td>1.612619e-17</td>\n",
       "      <td>4.151599e-15</td>\n",
       "      <td>3.629004e-15</td>\n",
       "      <td>1.269511e-16</td>\n",
       "      <td>-2.171342e-16</td>\n",
       "      <td>-6.305636e-17</td>\n",
       "      <td>1.107828e-17</td>\n",
       "    </tr>\n",
       "    <tr>\n",
       "      <th>std</th>\n",
       "      <td>1.000270e+00</td>\n",
       "      <td>1.000270e+00</td>\n",
       "      <td>1.000270e+00</td>\n",
       "      <td>1.000270e+00</td>\n",
       "      <td>1.000270e+00</td>\n",
       "      <td>1.000270e+00</td>\n",
       "      <td>1.000270e+00</td>\n",
       "      <td>1.000270e+00</td>\n",
       "      <td>1.000270e+00</td>\n",
       "      <td>1.000270e+00</td>\n",
       "      <td>1.000270e+00</td>\n",
       "    </tr>\n",
       "    <tr>\n",
       "      <th>min</th>\n",
       "      <td>-4.472136e-01</td>\n",
       "      <td>-1.583264e+00</td>\n",
       "      <td>-1.529584e+00</td>\n",
       "      <td>-1.538202e+00</td>\n",
       "      <td>-1.178737e+00</td>\n",
       "      <td>-2.663607e-01</td>\n",
       "      <td>-3.445899e-01</td>\n",
       "      <td>-2.120063e+00</td>\n",
       "      <td>-6.783883e-01</td>\n",
       "      <td>-2.298741e+00</td>\n",
       "      <td>-3.625002e+00</td>\n",
       "    </tr>\n",
       "    <tr>\n",
       "      <th>25%</th>\n",
       "      <td>-4.472136e-01</td>\n",
       "      <td>-6.466776e-01</td>\n",
       "      <td>-5.914003e-01</td>\n",
       "      <td>-6.521039e-01</td>\n",
       "      <td>-7.814193e-01</td>\n",
       "      <td>-2.663607e-01</td>\n",
       "      <td>-3.445899e-01</td>\n",
       "      <td>-7.466810e-01</td>\n",
       "      <td>-6.783883e-01</td>\n",
       "      <td>-6.159967e-01</td>\n",
       "      <td>-5.529811e-01</td>\n",
       "    </tr>\n",
       "    <tr>\n",
       "      <th>50%</th>\n",
       "      <td>-4.472136e-01</td>\n",
       "      <td>-1.920238e-01</td>\n",
       "      <td>-1.972333e-01</td>\n",
       "      <td>-2.342381e-01</td>\n",
       "      <td>-2.516629e-01</td>\n",
       "      <td>-2.663607e-01</td>\n",
       "      <td>-3.445899e-01</td>\n",
       "      <td>-6.287733e-02</td>\n",
       "      <td>-7.746527e-02</td>\n",
       "      <td>-9.013894e-02</td>\n",
       "      <td>8.488880e-02</td>\n",
       "    </tr>\n",
       "    <tr>\n",
       "      <th>75%</th>\n",
       "      <td>-4.472136e-01</td>\n",
       "      <td>4.353984e-01</td>\n",
       "      <td>3.768390e-01</td>\n",
       "      <td>2.794339e-01</td>\n",
       "      <td>5.429718e-01</td>\n",
       "      <td>-2.663607e-01</td>\n",
       "      <td>-3.445899e-01</td>\n",
       "      <td>6.126364e-01</td>\n",
       "      <td>5.234578e-01</td>\n",
       "      <td>5.408903e-01</td>\n",
       "      <td>5.141235e-01</td>\n",
       "    </tr>\n",
       "    <tr>\n",
       "      <th>max</th>\n",
       "      <td>2.236068e+00</td>\n",
       "      <td>6.427735e+00</td>\n",
       "      <td>6.991216e+00</td>\n",
       "      <td>7.234842e+00</td>\n",
       "      <td>4.251267e+00</td>\n",
       "      <td>1.392423e+01</td>\n",
       "      <td>1.042893e+01</td>\n",
       "      <td>1.164803e+01</td>\n",
       "      <td>7.133612e+00</td>\n",
       "      <td>4.537409e+00</td>\n",
       "      <td>1.177867e+01</td>\n",
       "    </tr>\n",
       "  </tbody>\n",
       "</table>\n",
       "</div>"
      ],
      "text/plain": [
       "             TARGET          LOAN       MORTDUE         VALUE           YOJ  \\\n",
       "count  1.854000e+03  1.854000e+03  1.854000e+03  1.854000e+03  1.854000e+03   \n",
       "mean   1.807017e-15  3.832485e-18 -2.887837e-17 -1.101839e-17  1.612619e-17   \n",
       "std    1.000270e+00  1.000270e+00  1.000270e+00  1.000270e+00  1.000270e+00   \n",
       "min   -4.472136e-01 -1.583264e+00 -1.529584e+00 -1.538202e+00 -1.178737e+00   \n",
       "25%   -4.472136e-01 -6.466776e-01 -5.914003e-01 -6.521039e-01 -7.814193e-01   \n",
       "50%   -4.472136e-01 -1.920238e-01 -1.972333e-01 -2.342381e-01 -2.516629e-01   \n",
       "75%   -4.472136e-01  4.353984e-01  3.768390e-01  2.794339e-01  5.429718e-01   \n",
       "max    2.236068e+00  6.427735e+00  6.991216e+00  7.234842e+00  4.251267e+00   \n",
       "\n",
       "              DEROG        DELINQ         CLAGE          NINQ          CLNO  \\\n",
       "count  1.854000e+03  1.854000e+03  1.854000e+03  1.854000e+03  1.854000e+03   \n",
       "mean   4.151599e-15  3.629004e-15  1.269511e-16 -2.171342e-16 -6.305636e-17   \n",
       "std    1.000270e+00  1.000270e+00  1.000270e+00  1.000270e+00  1.000270e+00   \n",
       "min   -2.663607e-01 -3.445899e-01 -2.120063e+00 -6.783883e-01 -2.298741e+00   \n",
       "25%   -2.663607e-01 -3.445899e-01 -7.466810e-01 -6.783883e-01 -6.159967e-01   \n",
       "50%   -2.663607e-01 -3.445899e-01 -6.287733e-02 -7.746527e-02 -9.013894e-02   \n",
       "75%   -2.663607e-01 -3.445899e-01  6.126364e-01  5.234578e-01  5.408903e-01   \n",
       "max    1.392423e+01  1.042893e+01  1.164803e+01  7.133612e+00  4.537409e+00   \n",
       "\n",
       "            DEBTINC  \n",
       "count  1.854000e+03  \n",
       "mean   1.107828e-17  \n",
       "std    1.000270e+00  \n",
       "min   -3.625002e+00  \n",
       "25%   -5.529811e-01  \n",
       "50%    8.488880e-02  \n",
       "75%    5.141235e-01  \n",
       "max    1.177867e+01  "
      ]
     },
     "execution_count": 161,
     "metadata": {},
     "output_type": "execute_result"
    }
   ],
   "source": [
    "ndata.describe()"
   ]
  },
  {
   "cell_type": "markdown",
   "metadata": {},
   "source": [
    "## Ejercicio 2: Predicción con Modelos Lineales\n",
    "\n",
    "En este ejercicio se entrenarán modelos lineales de clasificación para predecir la variable objetivo.\n",
    "\n",
    "Para ello, deberán utilizar la clase SGDClassifier de scikit-learn.\n",
    "\n",
    "Documentación:\n",
    "- https://scikit-learn.org/stable/modules/sgd.html\n",
    "- https://scikit-learn.org/stable/modules/generated/sklearn.linear_model.SGDClassifier.html\n"
   ]
  },
  {
   "cell_type": "markdown",
   "metadata": {},
   "source": [
    "Lista para almacenar scores de diferentes modelos"
   ]
  },
  {
   "cell_type": "code",
   "execution_count": 9,
   "metadata": {},
   "outputs": [],
   "source": [
    "globalresult_sgd = []"
   ]
  },
  {
   "cell_type": "markdown",
   "metadata": {},
   "source": [
    "### Ejercicio 2.1: SGDClassifier con hiperparámetros por defecto\n",
    "\n",
    "Entrenar y evaluar el clasificador SGDClassifier usando los valores por omisión de scikit-learn para todos los parámetros. Únicamente **fijar la semilla aleatoria** para hacer repetible el experimento.\n",
    "\n",
    "Evaluar sobre el conjunto de **entrenamiento** y sobre el conjunto de **evaluación**, reportando:\n",
    "- Accuracy\n",
    "- Precision\n",
    "- Recall\n",
    "- F1\n",
    "- matriz de confusión"
   ]
  },
  {
   "cell_type": "code",
   "execution_count": 10,
   "metadata": {},
   "outputs": [],
   "source": [
    "np.random.seed(0)\n",
    "clf=SGDClassifier()"
   ]
  },
  {
   "cell_type": "code",
   "execution_count": 11,
   "metadata": {},
   "outputs": [],
   "source": [
    "clf.fit(X_train,y_train)\n",
    "globalresult_sgd.append(clf.score(X_test,y_test))\n",
    "globalresult_sgd.append(clf.score(X_train,y_train))"
   ]
  },
  {
   "cell_type": "code",
   "execution_count": 57,
   "metadata": {},
   "outputs": [],
   "source": [
    "y_pred = clf.predict(X_test)"
   ]
  },
  {
   "cell_type": "markdown",
   "metadata": {},
   "source": [
    "**SGD Sin tunear, raw, TEST**"
   ]
  },
  {
   "cell_type": "code",
   "execution_count": 200,
   "metadata": {
    "scrolled": false
   },
   "outputs": [
    {
     "name": "stdout",
     "output_type": "stream",
     "text": [
      "              precision    recall  f1-score   support\n",
      "\n",
      "           0       0.84      1.00      0.91       313\n",
      "           1       0.00      0.00      0.00        58\n",
      "\n",
      "   micro avg       0.84      0.84      0.84       371\n",
      "   macro avg       0.42      0.50      0.46       371\n",
      "weighted avg       0.71      0.84      0.77       371\n",
      "\n",
      "[[312   1]\n",
      " [ 58   0]]\n"
     ]
    }
   ],
   "source": [
    "print(classification_report(y_test, clf.predict(X_test)))\n",
    "print(confusion_matrix(y_test, clf.predict(X_test)))"
   ]
  },
  {
   "cell_type": "markdown",
   "metadata": {},
   "source": [
    "**SGD Sin tunear, raw, TRAIN**"
   ]
  },
  {
   "cell_type": "code",
   "execution_count": 12,
   "metadata": {},
   "outputs": [
    {
     "name": "stdout",
     "output_type": "stream",
     "text": [
      "              precision    recall  f1-score   support\n",
      "\n",
      "           0       0.83      1.00      0.91      1232\n",
      "           1       0.00      0.00      0.00       251\n",
      "\n",
      "    accuracy                           0.83      1483\n",
      "   macro avg       0.42      0.50      0.45      1483\n",
      "weighted avg       0.69      0.83      0.75      1483\n",
      "\n",
      "[[1232    0]\n",
      " [ 251    0]]\n"
     ]
    }
   ],
   "source": [
    "print(classification_report(y_train, clf.predict(X_train)))\n",
    "print(confusion_matrix(y_train, clf.predict(X_train)))"
   ]
  },
  {
   "cell_type": "code",
   "execution_count": 168,
   "metadata": {
    "scrolled": true
   },
   "outputs": [
    {
     "data": {
      "text/plain": [
       "0    1232\n",
       "1     251\n",
       "Name: TARGET, dtype: int64"
      ]
     },
     "execution_count": 168,
     "metadata": {},
     "output_type": "execute_result"
    }
   ],
   "source": [
    "y_train.value_counts()"
   ]
  },
  {
   "cell_type": "markdown",
   "metadata": {},
   "source": [
    "### Con datos normalizados\n",
    "Mejora inmediatamente la precisión, incluso sin tuneo de hiperparámetros el modelo realiza una predicción distinta a la clasificación de todos los datos como una única clase. La precisión para clase 1, ahora es mejor que el azar (0.5) para el set de entrenamiento. Para el set de test, es de 0.28; aunque distinta de 0 sigue siendo bastante mala."
   ]
  },
  {
   "cell_type": "code",
   "execution_count": 13,
   "metadata": {},
   "outputs": [],
   "source": [
    "sc = StandardScaler()\n",
    "nX_train = pd.DataFrame(sc.fit_transform(X_train), columns=X_train.columns)\n",
    "nX_test = pd.DataFrame(sc.fit_transform(X_test), columns=X_test.columns)"
   ]
  },
  {
   "cell_type": "markdown",
   "metadata": {},
   "source": [
    "**SGD Sin tunear, NORMALIZADO, TEST**"
   ]
  },
  {
   "cell_type": "code",
   "execution_count": 14,
   "metadata": {},
   "outputs": [],
   "source": [
    "clf=SGDClassifier()\n",
    "clf.fit(nX_train,y_train)\n",
    "globalresult_sgd.append(clf.score(nX_test,y_test))\n",
    "globalresult_sgd.append(clf.score(nX_train,y_train))"
   ]
  },
  {
   "cell_type": "code",
   "execution_count": 77,
   "metadata": {},
   "outputs": [
    {
     "name": "stdout",
     "output_type": "stream",
     "text": [
      "              precision    recall  f1-score   support\n",
      "\n",
      "           0       0.89      0.96      0.92       313\n",
      "           1       0.63      0.33      0.43        58\n",
      "\n",
      "    accuracy                           0.87       371\n",
      "   macro avg       0.76      0.65      0.68       371\n",
      "weighted avg       0.85      0.87      0.85       371\n",
      "\n",
      "[[302  11]\n",
      " [ 39  19]]\n"
     ]
    }
   ],
   "source": [
    "y_pred = clf.predict(nX_test)\n",
    "print(classification_report(y_test, clf.predict(nX_test)))\n",
    "print(confusion_matrix(y_test, clf.predict(nX_test)))"
   ]
  },
  {
   "cell_type": "markdown",
   "metadata": {},
   "source": [
    "**SGD Sin tunear, NORMALIZADO, TRAIN**"
   ]
  },
  {
   "cell_type": "code",
   "execution_count": 78,
   "metadata": {
    "scrolled": true
   },
   "outputs": [
    {
     "name": "stdout",
     "output_type": "stream",
     "text": [
      "              precision    recall  f1-score   support\n",
      "\n",
      "           0       0.88      0.96      0.92      1232\n",
      "           1       0.63      0.38      0.47       251\n",
      "\n",
      "    accuracy                           0.86      1483\n",
      "   macro avg       0.76      0.67      0.70      1483\n",
      "weighted avg       0.84      0.86      0.84      1483\n",
      "\n",
      "[[1177   55]\n",
      " [ 156   95]]\n"
     ]
    }
   ],
   "source": [
    "y_pred = clf.predict(nX_train)\n",
    "print(classification_report(y_train, clf.predict(nX_train)))\n",
    "print(confusion_matrix(y_train, clf.predict(nX_train)))"
   ]
  },
  {
   "cell_type": "markdown",
   "metadata": {},
   "source": [
    "### Ejercicio 2.2: Ajuste de Hiperparámetros\n",
    "\n",
    "Seleccionar valores para los hiperparámetros principales del SGDClassifier. Como mínimo, probar diferentes funciones de loss, tasas de entrenamiento y tasas de regularización.\n",
    "\n",
    "Para ello, usar grid-search y 5-fold cross-validation sobre el conjunto de entrenamiento para explorar muchas combinaciones posibles de valores.\n",
    "\n",
    "Reportar accuracy promedio y varianza para todas las configuraciones.\n",
    "\n",
    "Para la mejor configuración encontrada, evaluar sobre el conjunto de **entrenamiento** y sobre el conjunto de **evaluación**, reportando:\n",
    "- Accuracy\n",
    "- Precision\n",
    "- Recall\n",
    "- F1\n",
    "- matriz de confusión\n",
    "\n",
    "Documentación:\n",
    "- https://scikit-learn.org/stable/modules/grid_search.html\n",
    "- https://scikit-learn.org/stable/modules/generated/sklearn.model_selection.GridSearchCV.html"
   ]
  },
  {
   "cell_type": "markdown",
   "metadata": {},
   "source": [
    "**RAW, TEST AND TRAIN**"
   ]
  },
  {
   "cell_type": "code",
   "execution_count": 15,
   "metadata": {},
   "outputs": [
    {
     "name": "stdout",
     "output_type": "stream",
     "text": [
      "best:  0.8314215679987491\n",
      "SGDClassifier(alpha=0.0001, average=False, class_weight=None,\n",
      "              early_stopping=False, epsilon=0.1, eta0=0.0, fit_intercept=True,\n",
      "              l1_ratio=0.15, learning_rate='optimal', loss='hinge',\n",
      "              max_iter=1000, n_iter_no_change=5, n_jobs=None,\n",
      "              penalty='elasticnet', power_t=0.5, random_state=None,\n",
      "              shuffle=True, tol=0.001, validation_fraction=0.1, verbose=0,\n",
      "              warm_start=False)\n",
      "best so far: \n",
      "SGDClassifier(alpha=0.0001, average=False, class_weight=None,\n",
      "              early_stopping=False, epsilon=0.1, eta0=0.0, fit_intercept=True,\n",
      "              l1_ratio=0.15, learning_rate='optimal', loss='hinge',\n",
      "              max_iter=1000, n_iter_no_change=5, n_jobs=None,\n",
      "              penalty='elasticnet', power_t=0.5, random_state=None,\n",
      "              shuffle=True, tol=0.001, validation_fraction=0.1, verbose=0,\n",
      "              warm_start=False)\n",
      "\n",
      "\n",
      "\n",
      "Report and confusion matrix por TEST SET\n",
      "              precision    recall  f1-score   support\n",
      "\n",
      "           0       0.84      1.00      0.91       313\n",
      "           1       0.00      0.00      0.00        58\n",
      "\n",
      "    accuracy                           0.84       371\n",
      "   macro avg       0.42      0.50      0.46       371\n",
      "weighted avg       0.71      0.84      0.77       371\n",
      "\n",
      "[[312   1]\n",
      " [ 58   0]]\n",
      "\n",
      "Report and confusion matrix por TRAIN SET\n",
      "              precision    recall  f1-score   support\n",
      "\n",
      "           0       0.83      0.99      0.90      1232\n",
      "           1       0.00      0.00      0.00       251\n",
      "\n",
      "    accuracy                           0.83      1483\n",
      "   macro avg       0.41      0.50      0.45      1483\n",
      "weighted avg       0.69      0.83      0.75      1483\n",
      "\n",
      "[[1224    8]\n",
      " [ 251    0]]\n"
     ]
    }
   ],
   "source": [
    "results = pd.DataFrame(columns=('clf','best_acc'))\n",
    "param = {'loss':('hinge','log','epsilon_insensitive'), \n",
    "         'penalty':('l1','l2','elasticnet')}\n",
    "sclf = SGDClassifier()\n",
    "sclf_ = GridSearchCV(sclf, param, scoring='accuracy', cv=5, iid=False)\n",
    "sclf_.fit(X_train, y_train)\n",
    "best_clf = sclf_.best_estimator_\n",
    "print('best: ',sclf_.best_score_)\n",
    "print(best_clf)\n",
    "results = results.append({'clf': best_clf, 'best_acc': sclf_.best_score_},\n",
    "                        ignore_index=True)\n",
    "print('best so far: ')\n",
    "print(results.loc[results['best_acc'].idxmax()]['clf'])\n",
    "print('\\n\\n')\n",
    "print('Report and confusion matrix por TEST SET')\n",
    "print(classification_report(y_test, best_clf.predict(X_test)))\n",
    "print(confusion_matrix(y_test, best_clf.predict(X_test)))\n",
    "print('\\nReport and confusion matrix por TRAIN SET')\n",
    "print(classification_report(y_train, best_clf.predict(X_train)))\n",
    "print(confusion_matrix(y_train, best_clf.predict(X_train)))"
   ]
  },
  {
   "cell_type": "code",
   "execution_count": 16,
   "metadata": {},
   "outputs": [],
   "source": [
    "globalresult_sgd.append(sclf_.cv_results_['mean_test_score'])"
   ]
  },
  {
   "cell_type": "markdown",
   "metadata": {},
   "source": [
    "**NORMALIZADO, TEST AND TRAIN**"
   ]
  },
  {
   "cell_type": "code",
   "execution_count": 17,
   "metadata": {
    "scrolled": true
   },
   "outputs": [
    {
     "name": "stdout",
     "output_type": "stream",
     "text": [
      "best:  0.8698624188557075\n",
      "SGDClassifier(alpha=0.0001, average=False, class_weight=None,\n",
      "              early_stopping=False, epsilon=0.1, eta0=0.0, fit_intercept=True,\n",
      "              l1_ratio=0.15, learning_rate='optimal', loss='log', max_iter=1000,\n",
      "              n_iter_no_change=5, n_jobs=None, penalty='elasticnet',\n",
      "              power_t=0.5, random_state=None, shuffle=True, tol=0.001,\n",
      "              validation_fraction=0.1, verbose=0, warm_start=False)\n",
      "best so far: \n",
      "SGDClassifier(alpha=0.0001, average=False, class_weight=None,\n",
      "              early_stopping=False, epsilon=0.1, eta0=0.0, fit_intercept=True,\n",
      "              l1_ratio=0.15, learning_rate='optimal', loss='log', max_iter=1000,\n",
      "              n_iter_no_change=5, n_jobs=None, penalty='elasticnet',\n",
      "              power_t=0.5, random_state=None, shuffle=True, tol=0.001,\n",
      "              validation_fraction=0.1, verbose=0, warm_start=False)\n",
      "\n",
      "\n",
      "\n",
      "Report and confusion matrix por TEST SET\n",
      "              precision    recall  f1-score   support\n",
      "\n",
      "           0       0.90      0.98      0.94       313\n",
      "           1       0.77      0.40      0.52        58\n",
      "\n",
      "    accuracy                           0.89       371\n",
      "   macro avg       0.83      0.69      0.73       371\n",
      "weighted avg       0.88      0.89      0.87       371\n",
      "\n",
      "[[306   7]\n",
      " [ 35  23]]\n",
      "\n",
      "Report and confusion matrix por TRAIN SET\n",
      "              precision    recall  f1-score   support\n",
      "\n",
      "           0       0.87      0.97      0.92      1232\n",
      "           1       0.71      0.31      0.44       251\n",
      "\n",
      "    accuracy                           0.86      1483\n",
      "   macro avg       0.79      0.64      0.68      1483\n",
      "weighted avg       0.85      0.86      0.84      1483\n",
      "\n",
      "[[1200   32]\n",
      " [ 172   79]]\n"
     ]
    }
   ],
   "source": [
    "results = pd.DataFrame(columns=('clf','best_acc'))\n",
    "param = {'loss':('hinge','log','epsilon_insensitive'), \n",
    "         'penalty':('l1','l2','elasticnet')}\n",
    "sclf = SGDClassifier()\n",
    "sclf_ = GridSearchCV(sclf, param, scoring='accuracy', cv=5, iid=False)\n",
    "sclf_.fit(nX_train, y_train)\n",
    "best_clf = sclf_.best_estimator_\n",
    "print('best: ',sclf_.best_score_)\n",
    "print(best_clf)\n",
    "results = results.append({'clf': best_clf, 'best_acc': sclf_.best_score_},\n",
    "                        ignore_index=True)\n",
    "print('best so far: ')\n",
    "print(results.loc[results['best_acc'].idxmax()]['clf'])\n",
    "print('\\n\\n')\n",
    "print('Report and confusion matrix por TEST SET')\n",
    "print(classification_report(y_test, best_clf.predict(nX_test)))\n",
    "print(confusion_matrix(y_test, best_clf.predict(nX_test)))\n",
    "print('\\nReport and confusion matrix por TRAIN SET')\n",
    "print(classification_report(y_train, best_clf.predict(nX_train)))\n",
    "print(confusion_matrix(y_train, best_clf.predict(nX_train)))"
   ]
  },
  {
   "cell_type": "code",
   "execution_count": 18,
   "metadata": {},
   "outputs": [],
   "source": [
    "globalresult_sgd.append(sclf_.cv_results_['mean_test_score'])"
   ]
  },
  {
   "cell_type": "markdown",
   "metadata": {},
   "source": [
    "## Ejercicio 3: Árbol de Decisión\n",
    "\n",
    "En este ejercicio se entrenarán árboles de decisión para predecir la variable objetivo.\n",
    "\n",
    "Para ello, deberán utilizar la clase DecisionTreeClassifier de scikit-learn.\n",
    "\n",
    "Documentación:\n",
    "- https://scikit-learn.org/stable/modules/tree.html\n",
    "  - https://scikit-learn.org/stable/modules/tree.html#tips-on-practical-use\n",
    "- https://scikit-learn.org/stable/modules/generated/sklearn.tree.DecisionTreeClassifier.html\n",
    "- https://scikit-learn.org/stable/auto_examples/tree/plot_unveil_tree_structure.html"
   ]
  },
  {
   "cell_type": "markdown",
   "metadata": {},
   "source": [
    "Lista para almacenar scores de diferentes modelos"
   ]
  },
  {
   "cell_type": "code",
   "execution_count": 19,
   "metadata": {},
   "outputs": [],
   "source": [
    "globalresult_tree = []"
   ]
  },
  {
   "cell_type": "markdown",
   "metadata": {},
   "source": [
    "### Ejercicio 3.1: DecisionTreeClassifier con hiperparámetros por defecto\n",
    "\n",
    "Entrenar y evaluar el clasificador DecisionTreeClassifier usando los valores por omisión de scikit-learn para todos los parámetros. Únicamente **fijar la semilla aleatoria** para hacer repetible el experimento.\n",
    "\n",
    "Evaluar sobre el conjunto de **entrenamiento** y sobre el conjunto de **evaluación**, reportando:\n",
    "- Accuracy\n",
    "- Precision\n",
    "- Recall\n",
    "- F1\n",
    "- matriz de confusión\n"
   ]
  },
  {
   "cell_type": "markdown",
   "metadata": {},
   "source": [
    "**NO TUNING, RAW**"
   ]
  },
  {
   "cell_type": "code",
   "execution_count": 20,
   "metadata": {
    "scrolled": true
   },
   "outputs": [
    {
     "name": "stdout",
     "output_type": "stream",
     "text": [
      "Summary and confusion matrix por TEST SET\n",
      "              precision    recall  f1-score   support\n",
      "\n",
      "           0       0.93      0.94      0.93       313\n",
      "           1       0.64      0.62      0.63        58\n",
      "\n",
      "    accuracy                           0.89       371\n",
      "   macro avg       0.79      0.78      0.78       371\n",
      "weighted avg       0.89      0.89      0.89       371\n",
      "\n",
      "[[293  20]\n",
      " [ 22  36]]\n",
      "\n",
      "Summary and confusion matrix por TRAIN SET\n",
      "              precision    recall  f1-score   support\n",
      "\n",
      "           0       1.00      1.00      1.00      1232\n",
      "           1       1.00      1.00      1.00       251\n",
      "\n",
      "    accuracy                           1.00      1483\n",
      "   macro avg       1.00      1.00      1.00      1483\n",
      "weighted avg       1.00      1.00      1.00      1483\n",
      "\n",
      "[[1232    0]\n",
      " [   0  251]]\n"
     ]
    }
   ],
   "source": [
    "tree = DT(random_state=42)\n",
    "tree.fit(X_train, y_train)\n",
    "y_pred = tree.predict(X_train)\n",
    "print('Summary and confusion matrix por TEST SET')\n",
    "print(classification_report(y_test, tree.predict(X_test)))\n",
    "print(confusion_matrix(y_test, tree.predict(X_test)))\n",
    "print('\\nSummary and confusion matrix por TRAIN SET')\n",
    "print(classification_report(y_train, tree.predict(X_train)))\n",
    "print(confusion_matrix(y_train, tree.predict(X_train)))"
   ]
  },
  {
   "cell_type": "code",
   "execution_count": 21,
   "metadata": {},
   "outputs": [],
   "source": [
    "globalresult_tree.append(tree.score(X_test, y_test))\n",
    "globalresult_tree.append(tree.score(X_train, y_train))"
   ]
  },
  {
   "cell_type": "markdown",
   "metadata": {},
   "source": [
    "**NO TUNING, NORMALIZED**"
   ]
  },
  {
   "cell_type": "code",
   "execution_count": 22,
   "metadata": {
    "scrolled": true
   },
   "outputs": [
    {
     "name": "stdout",
     "output_type": "stream",
     "text": [
      "Summary and confusion matrix por TEST SET\n",
      "              precision    recall  f1-score   support\n",
      "\n",
      "           0       0.95      0.88      0.92       313\n",
      "           1       0.54      0.76      0.63        58\n",
      "\n",
      "    accuracy                           0.86       371\n",
      "   macro avg       0.75      0.82      0.77       371\n",
      "weighted avg       0.89      0.86      0.87       371\n",
      "\n",
      "[[276  37]\n",
      " [ 14  44]]\n",
      "\n",
      "Summary and confusion matrix por TRAIN SET\n",
      "              precision    recall  f1-score   support\n",
      "\n",
      "           0       1.00      1.00      1.00      1232\n",
      "           1       1.00      1.00      1.00       251\n",
      "\n",
      "    accuracy                           1.00      1483\n",
      "   macro avg       1.00      1.00      1.00      1483\n",
      "weighted avg       1.00      1.00      1.00      1483\n",
      "\n",
      "[[1232    0]\n",
      " [   0  251]]\n"
     ]
    }
   ],
   "source": [
    "tree = DT(random_state=42)\n",
    "tree.fit(nX_train, y_train)\n",
    "y_pred = tree.predict(nX_train)\n",
    "print('Summary and confusion matrix por TEST SET')\n",
    "print(classification_report(y_test, tree.predict(nX_test)))\n",
    "print(confusion_matrix(y_test, tree.predict(nX_test)))\n",
    "print('\\nSummary and confusion matrix por TRAIN SET')\n",
    "print(classification_report(y_train, tree.predict(nX_train)))\n",
    "print(confusion_matrix(y_train, tree.predict(nX_train)))"
   ]
  },
  {
   "cell_type": "code",
   "execution_count": 23,
   "metadata": {},
   "outputs": [],
   "source": [
    "globalresult_tree.append(tree.score(X_test, y_test))\n",
    "globalresult_tree.append(tree.score(X_train, y_train))"
   ]
  },
  {
   "cell_type": "markdown",
   "metadata": {},
   "source": [
    "### Ejercicio 3.2: Ajuste de Hiperparámetros\n",
    "\n",
    "Seleccionar valores para los hiperparámetros principales del DecisionTreeClassifier. Como mínimo, probar diferentes criterios de partición (criterion), profundidad máxima del árbol (max_depth), y cantidad mínima de samples por hoja (min_samples_leaf).\n",
    "\n",
    "Para ello, usar grid-search y 5-fold cross-validation sobre el conjunto de entrenamiento para explorar muchas combinaciones posibles de valores.\n",
    "\n",
    "Reportar accuracy promedio y varianza para todas las configuraciones.\n",
    "\n",
    "Para la mejor configuración encontrada, evaluar sobre el conjunto de **entrenamiento** y sobre el conjunto de **evaluación**, reportando:\n",
    "- Accuracy\n",
    "- Precision\n",
    "- Recall\n",
    "- F1\n",
    "- matriz de confusión\n",
    "\n",
    "\n",
    "Documentación:\n",
    "- https://scikit-learn.org/stable/modules/grid_search.html\n",
    "- https://scikit-learn.org/stable/modules/generated/sklearn.model_selection.GridSearchCV.html"
   ]
  },
  {
   "cell_type": "markdown",
   "metadata": {},
   "source": [
    "**RAW**"
   ]
  },
  {
   "cell_type": "code",
   "execution_count": 24,
   "metadata": {
    "scrolled": true
   },
   "outputs": [
    {
     "name": "stdout",
     "output_type": "stream",
     "text": [
      "Best Decision Tree accuracy:  0.8692275558047371\n",
      "DecisionTreeClassifier(class_weight=None, criterion='gini', max_depth=None,\n",
      "                       max_features=None, max_leaf_nodes=None,\n",
      "                       min_impurity_decrease=0.0, min_impurity_split=None,\n",
      "                       min_samples_leaf=8, min_samples_split=100,\n",
      "                       min_weight_fraction_leaf=0.0, presort=False,\n",
      "                       random_state=42, splitter='best')\n",
      "The best classifier so far is: \n",
      "SGDClassifier(alpha=0.0001, average=False, class_weight=None,\n",
      "              early_stopping=False, epsilon=0.1, eta0=0.0, fit_intercept=True,\n",
      "              l1_ratio=0.15, learning_rate='optimal', loss='log', max_iter=1000,\n",
      "              n_iter_no_change=5, n_jobs=None, penalty='elasticnet',\n",
      "              power_t=0.5, random_state=None, shuffle=True, tol=0.001,\n",
      "              validation_fraction=0.1, verbose=0, warm_start=False)\n",
      "Report and confusion matrix por TEST SET\n",
      "              precision    recall  f1-score   support\n",
      "\n",
      "           0       0.84      1.00      0.92       313\n",
      "           1       0.00      0.00      0.00        58\n",
      "\n",
      "    accuracy                           0.84       371\n",
      "   macro avg       0.42      0.50      0.46       371\n",
      "weighted avg       0.71      0.84      0.77       371\n",
      "\n",
      "[[313   0]\n",
      " [ 58   0]]\n",
      "\n",
      "Report and confusion matrix por TRAIN SET\n",
      "              precision    recall  f1-score   support\n",
      "\n",
      "           0       0.83      1.00      0.91      1232\n",
      "           1       0.00      0.00      0.00       251\n",
      "\n",
      "    accuracy                           0.83      1483\n",
      "   macro avg       0.42      0.50      0.45      1483\n",
      "weighted avg       0.69      0.83      0.75      1483\n",
      "\n",
      "[[1232    0]\n",
      " [ 251    0]]\n"
     ]
    }
   ],
   "source": [
    "tree_param = {'criterion':('gini', 'entropy'), 'min_samples_leaf':(1, 8),\n",
    "              'min_samples_split': (2,10,100)} #best 680\n",
    "\n",
    "tree = DT(random_state=42)\n",
    "tree_clf = GridSearchCV(tree, tree_param, scoring='accuracy', cv=5, iid=False)\n",
    "tree_clf.fit(X_train, y_train)\n",
    "best_tree_clf = tree_clf.best_estimator_\n",
    "print('Best Decision Tree accuracy: ', tree_clf.best_score_)\n",
    "print(best_tree_clf)\n",
    "results = results.append({'clf': best_tree_clf, 'best_acc': tree_clf.best_score_}, ignore_index=True)\n",
    "\n",
    "print('The best classifier so far is: ')\n",
    "print(results.loc[results['best_acc'].idxmax()]['clf'])\n",
    "\n",
    "print('Report and confusion matrix por TEST SET')\n",
    "print(classification_report(y_test, best_clf.predict(X_test)))\n",
    "print(confusion_matrix(y_test, best_clf.predict(X_test)))\n",
    "print('\\nReport and confusion matrix por TRAIN SET')\n",
    "print(classification_report(y_train, best_clf.predict(X_train)))\n",
    "print(confusion_matrix(y_train, best_clf.predict(X_train)))"
   ]
  },
  {
   "cell_type": "code",
   "execution_count": 25,
   "metadata": {},
   "outputs": [],
   "source": [
    "globalresult_tree.append(tree_clf.cv_results_['mean_test_score'])"
   ]
  },
  {
   "cell_type": "markdown",
   "metadata": {},
   "source": [
    "**NORMALIZED**"
   ]
  },
  {
   "cell_type": "code",
   "execution_count": 26,
   "metadata": {
    "scrolled": true
   },
   "outputs": [
    {
     "name": "stdout",
     "output_type": "stream",
     "text": [
      "Best Decision Tree accuracy:  0.8692275558047371\n",
      "DecisionTreeClassifier(class_weight=None, criterion='gini', max_depth=None,\n",
      "                       max_features=None, max_leaf_nodes=None,\n",
      "                       min_impurity_decrease=0.0, min_impurity_split=None,\n",
      "                       min_samples_leaf=8, min_samples_split=100,\n",
      "                       min_weight_fraction_leaf=0.0, presort=False,\n",
      "                       random_state=42, splitter='best')\n",
      "The best classifier so far is: \n",
      "SGDClassifier(alpha=0.0001, average=False, class_weight=None,\n",
      "              early_stopping=False, epsilon=0.1, eta0=0.0, fit_intercept=True,\n",
      "              l1_ratio=0.15, learning_rate='optimal', loss='log', max_iter=1000,\n",
      "              n_iter_no_change=5, n_jobs=None, penalty='elasticnet',\n",
      "              power_t=0.5, random_state=None, shuffle=True, tol=0.001,\n",
      "              validation_fraction=0.1, verbose=0, warm_start=False)\n",
      "Report and confusion matrix por TEST SET\n",
      "              precision    recall  f1-score   support\n",
      "\n",
      "           0       0.90      0.98      0.94       313\n",
      "           1       0.77      0.40      0.52        58\n",
      "\n",
      "    accuracy                           0.89       371\n",
      "   macro avg       0.83      0.69      0.73       371\n",
      "weighted avg       0.88      0.89      0.87       371\n",
      "\n",
      "[[306   7]\n",
      " [ 35  23]]\n",
      "\n",
      "Report and confusion matrix por TRAIN SET\n",
      "              precision    recall  f1-score   support\n",
      "\n",
      "           0       0.87      0.97      0.92      1232\n",
      "           1       0.71      0.31      0.44       251\n",
      "\n",
      "    accuracy                           0.86      1483\n",
      "   macro avg       0.79      0.64      0.68      1483\n",
      "weighted avg       0.85      0.86      0.84      1483\n",
      "\n",
      "[[1200   32]\n",
      " [ 172   79]]\n"
     ]
    }
   ],
   "source": [
    "tree_param = {'criterion':('gini', 'entropy'), 'min_samples_leaf':(1, 8),\n",
    "              'min_samples_split': (2,10,100)} #best 680\n",
    "\n",
    "tree = DT(random_state=42)\n",
    "tree_clf = GridSearchCV(tree, tree_param, scoring='accuracy', cv=5, iid=False)\n",
    "tree_clf.fit(nX_train, y_train)\n",
    "best_tree_clf = tree_clf.best_estimator_\n",
    "print('Best Decision Tree accuracy: ', tree_clf.best_score_)\n",
    "print(best_tree_clf)\n",
    "results = results.append({'clf': best_tree_clf, 'best_acc': tree_clf.best_score_}, ignore_index=True)\n",
    "\n",
    "print('The best classifier so far is: ')\n",
    "print(results.loc[results['best_acc'].idxmax()]['clf'])\n",
    "\n",
    "print('Report and confusion matrix por TEST SET')\n",
    "print(classification_report(y_test, best_clf.predict(nX_test)))\n",
    "print(confusion_matrix(y_test, best_clf.predict(nX_test)))\n",
    "print('\\nReport and confusion matrix por TRAIN SET')\n",
    "print(classification_report(y_train, best_clf.predict(nX_train)))\n",
    "print(confusion_matrix(y_train, best_clf.predict(nX_train)))"
   ]
  },
  {
   "cell_type": "code",
   "execution_count": 28,
   "metadata": {},
   "outputs": [],
   "source": [
    "globalresult_tree.append(tree_clf.cv_results_['mean_test_score'])"
   ]
  },
  {
   "cell_type": "markdown",
   "metadata": {},
   "source": [
    "## Dimensionality reduction"
   ]
  },
  {
   "cell_type": "markdown",
   "metadata": {},
   "source": [
    "## PCA"
   ]
  },
  {
   "cell_type": "code",
   "execution_count": 29,
   "metadata": {},
   "outputs": [],
   "source": [
    "pca = PCA() #(n_components=0.75, svd_solver='full')\n",
    "pX_train = pca.fit_transform(nX_train)\n",
    "pX_test = pca.transform(nX_test)"
   ]
  },
  {
   "cell_type": "code",
   "execution_count": 24,
   "metadata": {},
   "outputs": [
    {
     "data": {
      "text/plain": [
       "[<matplotlib.lines.Line2D at 0x135a470b780>]"
      ]
     },
     "execution_count": 24,
     "metadata": {},
     "output_type": "execute_result"
    },
    {
     "data": {
      "image/png": "[encoded data removed]",
      "text/plain": [
       "<Figure size 432x288 with 1 Axes>"
      ]
     },
     "metadata": {
      "needs_background": "light"
     },
     "output_type": "display_data"
    }
   ],
   "source": [
    "explained_variance = pca.explained_variance_ratio_\n",
    "plt.plot(explained_variance)"
   ]
  },
  {
   "cell_type": "code",
   "execution_count": 39,
   "metadata": {},
   "outputs": [
    {
     "data": {
      "text/plain": [
       "array([0.23410332, 0.14823301, 0.1232092 , 0.10129132, 0.094279  ,\n",
       "       0.08627101, 0.07180717, 0.06623148, 0.06309833, 0.01147616])"
      ]
     },
     "execution_count": 39,
     "metadata": {},
     "output_type": "execute_result"
    }
   ],
   "source": [
    "explained_variance"
   ]
  },
  {
   "cell_type": "code",
   "execution_count": 40,
   "metadata": {
    "scrolled": true
   },
   "outputs": [
    {
     "data": {
      "text/plain": [
       "[<matplotlib.lines.Line2D at 0x205d0075b00>]"
      ]
     },
     "execution_count": 40,
     "metadata": {},
     "output_type": "execute_result"
    },
    {
     "data": {
      "image/png": "[encoded data removed]",
      "text/plain": [
       "<Figure size 432x288 with 1 Axes>"
      ]
     },
     "metadata": {
      "needs_background": "light"
     },
     "output_type": "display_data"
    }
   ],
   "source": [
    "plt.plot(np.cumsum(explained_variance))"
   ]
  },
  {
   "cell_type": "code",
   "execution_count": 44,
   "metadata": {},
   "outputs": [],
   "source": [
    "import warnings\n",
    "warnings.filterwarnings('ignore')"
   ]
  },
  {
   "cell_type": "markdown",
   "metadata": {},
   "source": [
    "**SGD**"
   ]
  },
  {
   "cell_type": "code",
   "execution_count": 30,
   "metadata": {
    "scrolled": true
   },
   "outputs": [
    {
     "name": "stdout",
     "output_type": "stream",
     "text": [
      "best:  0.8624345516962967\n",
      "SGDClassifier(alpha=0.0001, average=False, class_weight=None,\n",
      "              early_stopping=False, epsilon=0.1, eta0=0.0, fit_intercept=True,\n",
      "              l1_ratio=0.15, learning_rate='optimal', loss='log', max_iter=1000,\n",
      "              n_iter_no_change=5, n_jobs=None, penalty='l2', power_t=0.5,\n",
      "              random_state=None, shuffle=True, tol=0.001,\n",
      "              validation_fraction=0.1, verbose=0, warm_start=False)\n",
      "best so far: \n",
      "SGDClassifier(alpha=0.0001, average=False, class_weight=None,\n",
      "              early_stopping=False, epsilon=0.1, eta0=0.0, fit_intercept=True,\n",
      "              l1_ratio=0.15, learning_rate='optimal', loss='log', max_iter=1000,\n",
      "              n_iter_no_change=5, n_jobs=None, penalty='l2', power_t=0.5,\n",
      "              random_state=None, shuffle=True, tol=0.001,\n",
      "              validation_fraction=0.1, verbose=0, warm_start=False)\n",
      "\n",
      "\n",
      "\n",
      "Report and confusion matrix por TEST SET\n",
      "              precision    recall  f1-score   support\n",
      "\n",
      "           0       0.89      0.99      0.94       313\n",
      "           1       0.90      0.31      0.46        58\n",
      "\n",
      "    accuracy                           0.89       371\n",
      "   macro avg       0.89      0.65      0.70       371\n",
      "weighted avg       0.89      0.89      0.86       371\n",
      "\n",
      "[[311   2]\n",
      " [ 40  18]]\n",
      "\n",
      "Report and confusion matrix por TRAIN SET\n",
      "              precision    recall  f1-score   support\n",
      "\n",
      "           0       0.88      0.98      0.93      1232\n",
      "           1       0.79      0.31      0.45       251\n",
      "\n",
      "    accuracy                           0.87      1483\n",
      "   macro avg       0.83      0.65      0.69      1483\n",
      "weighted avg       0.86      0.87      0.85      1483\n",
      "\n",
      "[[1211   21]\n",
      " [ 172   79]]\n"
     ]
    }
   ],
   "source": [
    "results = pd.DataFrame(columns=('clf','best_acc'))\n",
    "param = {'loss':('hinge','log','epsilon_insensitive'), \n",
    "         'penalty':('l1','l2','elasticnet')}\n",
    "sclf = SGDClassifier()\n",
    "sclf_ = GridSearchCV(sclf, param, scoring='accuracy', cv=5, iid=False)\n",
    "sclf_.fit(pX_train, y_train)\n",
    "best_clf = sclf_.best_estimator_\n",
    "print('best: ',sclf_.best_score_)\n",
    "print(best_clf)\n",
    "results = results.append({'clf': best_clf, 'best_acc': sclf_.best_score_},\n",
    "                        ignore_index=True)\n",
    "print('best so far: ')\n",
    "print(results.loc[results['best_acc'].idxmax()]['clf'])\n",
    "print('\\n\\n')\n",
    "print('Report and confusion matrix por TEST SET')\n",
    "print(classification_report(y_test, best_clf.predict(pX_test)))\n",
    "print(confusion_matrix(y_test, best_clf.predict(pX_test)))\n",
    "print('\\nReport and confusion matrix por TRAIN SET')\n",
    "print(classification_report(y_train, best_clf.predict(pX_train)))\n",
    "print(confusion_matrix(y_train, best_clf.predict(pX_train)))"
   ]
  },
  {
   "cell_type": "code",
   "execution_count": 31,
   "metadata": {},
   "outputs": [],
   "source": [
    "globalresult_sgd.append(sclf_.cv_results_['mean_test_score'])"
   ]
  },
  {
   "cell_type": "markdown",
   "metadata": {},
   "source": [
    "**Árbol de decisión**"
   ]
  },
  {
   "cell_type": "code",
   "execution_count": 32,
   "metadata": {},
   "outputs": [
    {
     "name": "stdout",
     "output_type": "stream",
     "text": [
      "Best Decision Tree accuracy:  0.8604234038797797\n",
      "DecisionTreeClassifier(class_weight=None, criterion='gini', max_depth=None,\n",
      "                       max_features=None, max_leaf_nodes=None,\n",
      "                       min_impurity_decrease=0.0, min_impurity_split=None,\n",
      "                       min_samples_leaf=1, min_samples_split=2,\n",
      "                       min_weight_fraction_leaf=0.0, presort=False,\n",
      "                       random_state=42, splitter='best')\n",
      "The best classifier so far is: \n",
      "SGDClassifier(alpha=0.0001, average=False, class_weight=None,\n",
      "              early_stopping=False, epsilon=0.1, eta0=0.0, fit_intercept=True,\n",
      "              l1_ratio=0.15, learning_rate='optimal', loss='log', max_iter=1000,\n",
      "              n_iter_no_change=5, n_jobs=None, penalty='l2', power_t=0.5,\n",
      "              random_state=None, shuffle=True, tol=0.001,\n",
      "              validation_fraction=0.1, verbose=0, warm_start=False)\n",
      "Report and confusion matrix por TEST SET\n",
      "              precision    recall  f1-score   support\n",
      "\n",
      "           0       0.89      0.99      0.94       313\n",
      "           1       0.90      0.31      0.46        58\n",
      "\n",
      "    accuracy                           0.89       371\n",
      "   macro avg       0.89      0.65      0.70       371\n",
      "weighted avg       0.89      0.89      0.86       371\n",
      "\n",
      "[[311   2]\n",
      " [ 40  18]]\n",
      "\n",
      "Report and confusion matrix por TRAIN SET\n",
      "              precision    recall  f1-score   support\n",
      "\n",
      "           0       0.88      0.98      0.93      1232\n",
      "           1       0.79      0.31      0.45       251\n",
      "\n",
      "    accuracy                           0.87      1483\n",
      "   macro avg       0.83      0.65      0.69      1483\n",
      "weighted avg       0.86      0.87      0.85      1483\n",
      "\n",
      "[[1211   21]\n",
      " [ 172   79]]\n"
     ]
    }
   ],
   "source": [
    "tree_param = {'criterion':('gini', 'entropy'), 'min_samples_leaf':(1, 8),\n",
    "              'min_samples_split': (2,10,100)} #best 680\n",
    "\n",
    "tree = DT(random_state=42)\n",
    "tree_clf = GridSearchCV(tree, tree_param, scoring='accuracy', cv=5, iid=False)\n",
    "tree_clf.fit(pX_train, y_train)\n",
    "best_tree_clf = tree_clf.best_estimator_\n",
    "print('Best Decision Tree accuracy: ', tree_clf.best_score_)\n",
    "print(best_tree_clf)\n",
    "results = results.append({'clf': best_tree_clf, 'best_acc': tree_clf.best_score_}, ignore_index=True)\n",
    "\n",
    "print('The best classifier so far is: ')\n",
    "print(results.loc[results['best_acc'].idxmax()]['clf'])\n",
    "\n",
    "print('Report and confusion matrix por TEST SET')\n",
    "print(classification_report(y_test, best_clf.predict(pX_test)))\n",
    "print(confusion_matrix(y_test, best_clf.predict(pX_test)))\n",
    "print('\\nReport and confusion matrix por TRAIN SET')\n",
    "print(classification_report(y_train, best_clf.predict(pX_train)))\n",
    "print(confusion_matrix(y_train, best_clf.predict(pX_train)))"
   ]
  },
  {
   "cell_type": "code",
   "execution_count": 34,
   "metadata": {},
   "outputs": [],
   "source": [
    "globalresult_tree.append(tree_clf.cv_results_['mean_test_score'])"
   ]
  },
  {
   "cell_type": "markdown",
   "metadata": {},
   "source": [
    "## Greedy Elimination\n",
    "\n",
    "En el par de features correlacionadas, VALUE y MORTDUE, eliminar la de menor correlación con la salida, TARGET  \n",
    "https://www.kaggle.com/reisel/how-to-handle-correlated-features"
   ]
  },
  {
   "cell_type": "code",
   "execution_count": 52,
   "metadata": {},
   "outputs": [
    {
     "name": "stdout",
     "output_type": "stream",
     "text": [
      "-0.035456574430790734\n",
      "-0.02332452011074581\n"
     ]
    }
   ],
   "source": [
    "print(data['TARGET'].corr(data['VALUE']))\n",
    "print(data['TARGET'].corr(data['MORTDUE']))"
   ]
  },
  {
   "cell_type": "code",
   "execution_count": 35,
   "metadata": {},
   "outputs": [],
   "source": [
    "gX_train = X_train.drop(['MORTDUE'], axis=1)\n",
    "gX_test = X_test.drop(['MORTDUE'], axis=1)\n",
    "ngX_train = nX_train.drop(['MORTDUE'], axis=1)\n",
    "ngX_test = nX_test.drop(['MORTDUE'], axis=1)"
   ]
  },
  {
   "cell_type": "markdown",
   "metadata": {},
   "source": [
    "**SGD RAW**"
   ]
  },
  {
   "cell_type": "code",
   "execution_count": 36,
   "metadata": {
    "scrolled": true
   },
   "outputs": [
    {
     "name": "stdout",
     "output_type": "stream",
     "text": [
      "best:  0.8307504270591519\n",
      "SGDClassifier(alpha=0.0001, average=False, class_weight=None,\n",
      "              early_stopping=False, epsilon=0.1, eta0=0.0, fit_intercept=True,\n",
      "              l1_ratio=0.15, learning_rate='optimal', loss='log', max_iter=1000,\n",
      "              n_iter_no_change=5, n_jobs=None, penalty='l2', power_t=0.5,\n",
      "              random_state=None, shuffle=True, tol=0.001,\n",
      "              validation_fraction=0.1, verbose=0, warm_start=False)\n",
      "best so far: \n",
      "SGDClassifier(alpha=0.0001, average=False, class_weight=None,\n",
      "              early_stopping=False, epsilon=0.1, eta0=0.0, fit_intercept=True,\n",
      "              l1_ratio=0.15, learning_rate='optimal', loss='log', max_iter=1000,\n",
      "              n_iter_no_change=5, n_jobs=None, penalty='l2', power_t=0.5,\n",
      "              random_state=None, shuffle=True, tol=0.001,\n",
      "              validation_fraction=0.1, verbose=0, warm_start=False)\n",
      "\n",
      "\n",
      "\n",
      "Report and confusion matrix por TEST SET\n",
      "              precision    recall  f1-score   support\n",
      "\n",
      "           0       0.84      1.00      0.92       313\n",
      "           1       0.00      0.00      0.00        58\n",
      "\n",
      "    accuracy                           0.84       371\n",
      "   macro avg       0.42      0.50      0.46       371\n",
      "weighted avg       0.71      0.84      0.77       371\n",
      "\n",
      "[[313   0]\n",
      " [ 58   0]]\n",
      "\n",
      "Report and confusion matrix por TRAIN SET\n",
      "              precision    recall  f1-score   support\n",
      "\n",
      "           0       0.83      1.00      0.91      1232\n",
      "           1       0.00      0.00      0.00       251\n",
      "\n",
      "    accuracy                           0.83      1483\n",
      "   macro avg       0.42      0.50      0.45      1483\n",
      "weighted avg       0.69      0.83      0.75      1483\n",
      "\n",
      "[[1232    0]\n",
      " [ 251    0]]\n"
     ]
    }
   ],
   "source": [
    "results = pd.DataFrame(columns=('clf','best_acc'))\n",
    "param = {'loss':('hinge','log','epsilon_insensitive'), \n",
    "         'penalty':('l1','l2','elasticnet')}\n",
    "sclf = SGDClassifier()\n",
    "sclf_ = GridSearchCV(sclf, param, scoring='accuracy', cv=5, iid=False)\n",
    "sclf_.fit(gX_train, y_train)\n",
    "best_clf = sclf_.best_estimator_\n",
    "print('best: ',sclf_.best_score_)\n",
    "print(best_clf)\n",
    "results = results.append({'clf': best_clf, 'best_acc': sclf_.best_score_},\n",
    "                        ignore_index=True)\n",
    "print('best so far: ')\n",
    "print(results.loc[results['best_acc'].idxmax()]['clf'])\n",
    "print('\\n\\n')\n",
    "print('Report and confusion matrix por TEST SET')\n",
    "print(classification_report(y_test, best_clf.predict(gX_test)))\n",
    "print(confusion_matrix(y_test, best_clf.predict(gX_test)))\n",
    "print('\\nReport and confusion matrix por TRAIN SET')\n",
    "print(classification_report(y_train, best_clf.predict(gX_train)))\n",
    "print(confusion_matrix(y_train, best_clf.predict(gX_train)))"
   ]
  },
  {
   "cell_type": "code",
   "execution_count": 37,
   "metadata": {},
   "outputs": [],
   "source": [
    "globalresult_sgd.append(sclf_.cv_results_['mean_test_score'])"
   ]
  },
  {
   "cell_type": "markdown",
   "metadata": {},
   "source": [
    "**SGD NORMALIZED**"
   ]
  },
  {
   "cell_type": "code",
   "execution_count": 38,
   "metadata": {
    "scrolled": true
   },
   "outputs": [
    {
     "name": "stdout",
     "output_type": "stream",
     "text": [
      "best:  0.8671960093101033\n",
      "SGDClassifier(alpha=0.0001, average=False, class_weight=None,\n",
      "              early_stopping=False, epsilon=0.1, eta0=0.0, fit_intercept=True,\n",
      "              l1_ratio=0.15, learning_rate='optimal', loss='log', max_iter=1000,\n",
      "              n_iter_no_change=5, n_jobs=None, penalty='l2', power_t=0.5,\n",
      "              random_state=None, shuffle=True, tol=0.001,\n",
      "              validation_fraction=0.1, verbose=0, warm_start=False)\n",
      "best so far: \n",
      "SGDClassifier(alpha=0.0001, average=False, class_weight=None,\n",
      "              early_stopping=False, epsilon=0.1, eta0=0.0, fit_intercept=True,\n",
      "              l1_ratio=0.15, learning_rate='optimal', loss='log', max_iter=1000,\n",
      "              n_iter_no_change=5, n_jobs=None, penalty='l2', power_t=0.5,\n",
      "              random_state=None, shuffle=True, tol=0.001,\n",
      "              validation_fraction=0.1, verbose=0, warm_start=False)\n",
      "\n",
      "\n",
      "\n",
      "Report and confusion matrix por TEST SET\n",
      "              precision    recall  f1-score   support\n",
      "\n",
      "           0       0.89      0.97      0.93       313\n",
      "           1       0.70      0.33      0.45        58\n",
      "\n",
      "    accuracy                           0.87       371\n",
      "   macro avg       0.80      0.65      0.69       371\n",
      "weighted avg       0.86      0.87      0.85       371\n",
      "\n",
      "[[305   8]\n",
      " [ 39  19]]\n",
      "\n",
      "Report and confusion matrix por TRAIN SET\n",
      "              precision    recall  f1-score   support\n",
      "\n",
      "           0       0.88      0.98      0.93      1232\n",
      "           1       0.80      0.33      0.47       251\n",
      "\n",
      "    accuracy                           0.87      1483\n",
      "   macro avg       0.84      0.66      0.70      1483\n",
      "weighted avg       0.87      0.87      0.85      1483\n",
      "\n",
      "[[1211   21]\n",
      " [ 167   84]]\n"
     ]
    }
   ],
   "source": [
    "results = pd.DataFrame(columns=('clf','best_acc'))\n",
    "param = {'loss':('hinge','log','epsilon_insensitive'), \n",
    "         'penalty':('l1','l2','elasticnet')}\n",
    "sclf = SGDClassifier()\n",
    "sclf_ = GridSearchCV(sclf, param, scoring='accuracy', cv=5, iid=False)\n",
    "sclf_.fit(ngX_train, y_train)\n",
    "best_clf = sclf_.best_estimator_\n",
    "print('best: ',sclf_.best_score_)\n",
    "print(best_clf)\n",
    "results = results.append({'clf': best_clf, 'best_acc': sclf_.best_score_},\n",
    "                        ignore_index=True)\n",
    "print('best so far: ')\n",
    "print(results.loc[results['best_acc'].idxmax()]['clf'])\n",
    "print('\\n\\n')\n",
    "print('Report and confusion matrix por TEST SET')\n",
    "print(classification_report(y_test, best_clf.predict(ngX_test)))\n",
    "print(confusion_matrix(y_test, best_clf.predict(ngX_test)))\n",
    "print('\\nReport and confusion matrix por TRAIN SET')\n",
    "print(classification_report(y_train, best_clf.predict(ngX_train)))\n",
    "print(confusion_matrix(y_train, best_clf.predict(ngX_train)))"
   ]
  },
  {
   "cell_type": "code",
   "execution_count": 39,
   "metadata": {},
   "outputs": [],
   "source": [
    "globalresult_sgd.append(sclf_.cv_results_['mean_test_score'])"
   ]
  },
  {
   "cell_type": "markdown",
   "metadata": {},
   "source": [
    "**TREE RAW**"
   ]
  },
  {
   "cell_type": "code",
   "execution_count": 40,
   "metadata": {
    "scrolled": true
   },
   "outputs": [
    {
     "name": "stdout",
     "output_type": "stream",
     "text": [
      "Best Decision Tree accuracy:  0.8746103027982223\n",
      "DecisionTreeClassifier(class_weight=None, criterion='entropy', max_depth=None,\n",
      "                       max_features=None, max_leaf_nodes=None,\n",
      "                       min_impurity_decrease=0.0, min_impurity_split=None,\n",
      "                       min_samples_leaf=1, min_samples_split=2,\n",
      "                       min_weight_fraction_leaf=0.0, presort=False,\n",
      "                       random_state=42, splitter='best')\n",
      "The best classifier so far is: \n",
      "DecisionTreeClassifier(class_weight=None, criterion='entropy', max_depth=None,\n",
      "                       max_features=None, max_leaf_nodes=None,\n",
      "                       min_impurity_decrease=0.0, min_impurity_split=None,\n",
      "                       min_samples_leaf=1, min_samples_split=2,\n",
      "                       min_weight_fraction_leaf=0.0, presort=False,\n",
      "                       random_state=42, splitter='best')\n",
      "Report and confusion matrix por TEST SET\n",
      "              precision    recall  f1-score   support\n",
      "\n",
      "           0       0.00      0.00      0.00       313\n",
      "           1       0.16      1.00      0.27        58\n",
      "\n",
      "    accuracy                           0.16       371\n",
      "   macro avg       0.08      0.50      0.14       371\n",
      "weighted avg       0.02      0.16      0.04       371\n",
      "\n",
      "[[  0 313]\n",
      " [  0  58]]\n",
      "\n",
      "Report and confusion matrix por TRAIN SET\n",
      "              precision    recall  f1-score   support\n",
      "\n",
      "           0       0.00      0.00      0.00      1232\n",
      "           1       0.17      1.00      0.29       251\n",
      "\n",
      "    accuracy                           0.17      1483\n",
      "   macro avg       0.08      0.50      0.14      1483\n",
      "weighted avg       0.03      0.17      0.05      1483\n",
      "\n",
      "[[   0 1232]\n",
      " [   0  251]]\n"
     ]
    }
   ],
   "source": [
    "tree_param = {'criterion':('gini', 'entropy'), 'min_samples_leaf':(1, 8),\n",
    "              'min_samples_split': (2,10,100)} #best 680\n",
    "\n",
    "tree = DT(random_state=42)\n",
    "tree_clf = GridSearchCV(tree, tree_param, scoring='accuracy', cv=5, iid=False)\n",
    "tree_clf.fit(gX_train, y_train)\n",
    "best_tree_clf = tree_clf.best_estimator_\n",
    "print('Best Decision Tree accuracy: ', tree_clf.best_score_)\n",
    "print(best_tree_clf)\n",
    "results = results.append({'clf': best_tree_clf, 'best_acc': tree_clf.best_score_}, ignore_index=True)\n",
    "\n",
    "print('The best classifier so far is: ')\n",
    "print(results.loc[results['best_acc'].idxmax()]['clf'])\n",
    "\n",
    "print('Report and confusion matrix por TEST SET')\n",
    "print(classification_report(y_test, best_clf.predict(gX_test)))\n",
    "print(confusion_matrix(y_test, best_clf.predict(gX_test)))\n",
    "print('\\nReport and confusion matrix por TRAIN SET')\n",
    "print(classification_report(y_train, best_clf.predict(gX_train)))\n",
    "print(confusion_matrix(y_train, best_clf.predict(gX_train)))"
   ]
  },
  {
   "cell_type": "code",
   "execution_count": 41,
   "metadata": {},
   "outputs": [],
   "source": [
    "globalresult_tree.append(tree_clf.cv_results_['mean_test_score'])"
   ]
  },
  {
   "cell_type": "markdown",
   "metadata": {},
   "source": [
    "**TREE NORMALIZED**"
   ]
  },
  {
   "cell_type": "code",
   "execution_count": 42,
   "metadata": {
    "scrolled": true
   },
   "outputs": [
    {
     "name": "stdout",
     "output_type": "stream",
     "text": [
      "Best Decision Tree accuracy:  0.8746103027982223\n",
      "DecisionTreeClassifier(class_weight=None, criterion='entropy', max_depth=None,\n",
      "                       max_features=None, max_leaf_nodes=None,\n",
      "                       min_impurity_decrease=0.0, min_impurity_split=None,\n",
      "                       min_samples_leaf=1, min_samples_split=2,\n",
      "                       min_weight_fraction_leaf=0.0, presort=False,\n",
      "                       random_state=42, splitter='best')\n",
      "The best classifier so far is: \n",
      "DecisionTreeClassifier(class_weight=None, criterion='entropy', max_depth=None,\n",
      "                       max_features=None, max_leaf_nodes=None,\n",
      "                       min_impurity_decrease=0.0, min_impurity_split=None,\n",
      "                       min_samples_leaf=1, min_samples_split=2,\n",
      "                       min_weight_fraction_leaf=0.0, presort=False,\n",
      "                       random_state=42, splitter='best')\n",
      "Report and confusion matrix por TEST SET\n",
      "              precision    recall  f1-score   support\n",
      "\n",
      "           0       0.89      0.97      0.93       313\n",
      "           1       0.70      0.33      0.45        58\n",
      "\n",
      "    accuracy                           0.87       371\n",
      "   macro avg       0.80      0.65      0.69       371\n",
      "weighted avg       0.86      0.87      0.85       371\n",
      "\n",
      "[[305   8]\n",
      " [ 39  19]]\n",
      "\n",
      "Report and confusion matrix por TRAIN SET\n",
      "              precision    recall  f1-score   support\n",
      "\n",
      "           0       0.88      0.98      0.93      1232\n",
      "           1       0.80      0.33      0.47       251\n",
      "\n",
      "    accuracy                           0.87      1483\n",
      "   macro avg       0.84      0.66      0.70      1483\n",
      "weighted avg       0.87      0.87      0.85      1483\n",
      "\n",
      "[[1211   21]\n",
      " [ 167   84]]\n"
     ]
    }
   ],
   "source": [
    "tree_param = {'criterion':('gini', 'entropy'), 'min_samples_leaf':(1, 8),\n",
    "              'min_samples_split': (2,10,100)} #best 680\n",
    "\n",
    "tree = DT(random_state=42)\n",
    "tree_clf = GridSearchCV(tree, tree_param, scoring='accuracy', cv=5, iid=False)\n",
    "tree_clf.fit(ngX_train, y_train)\n",
    "best_tree_clf = tree_clf.best_estimator_\n",
    "print('Best Decision Tree accuracy: ', tree_clf.best_score_)\n",
    "print(best_tree_clf)\n",
    "results = results.append({'clf': best_tree_clf, 'best_acc': tree_clf.best_score_}, ignore_index=True)\n",
    "\n",
    "print('The best classifier so far is: ')\n",
    "print(results.loc[results['best_acc'].idxmax()]['clf'])\n",
    "\n",
    "print('Report and confusion matrix por TEST SET')\n",
    "print(classification_report(y_test, best_clf.predict(ngX_test)))\n",
    "print(confusion_matrix(y_test, best_clf.predict(ngX_test)))\n",
    "print('\\nReport and confusion matrix por TRAIN SET')\n",
    "print(classification_report(y_train, best_clf.predict(ngX_train)))\n",
    "print(confusion_matrix(y_train, best_clf.predict(ngX_train)))"
   ]
  },
  {
   "cell_type": "code",
   "execution_count": 43,
   "metadata": {},
   "outputs": [],
   "source": [
    "globalresult_tree.append(tree_clf.cv_results_['mean_test_score'])"
   ]
  },
  {
   "cell_type": "markdown",
   "metadata": {},
   "source": [
    "# Balancing the set\n",
    "https://www.kaggle.com/rafjaa/resampling-strategies-for-imbalanced-datasets"
   ]
  },
  {
   "cell_type": "code",
   "execution_count": 44,
   "metadata": {},
   "outputs": [
    {
     "name": "stderr",
     "output_type": "stream",
     "text": [
      "Using TensorFlow backend.\n"
     ]
    }
   ],
   "source": [
    "from imblearn.over_sampling import SMOTE\n",
    "from sklearn.datasets import make_classification"
   ]
  },
  {
   "cell_type": "code",
   "execution_count": 45,
   "metadata": {},
   "outputs": [],
   "source": [
    "smote = SMOTE(ratio='minority')\n",
    "X_sm, y_sm = smote.fit_sample(X_train, y_train)"
   ]
  },
  {
   "cell_type": "code",
   "execution_count": 46,
   "metadata": {},
   "outputs": [],
   "source": [
    "X_sm = pd.DataFrame(X_sm, columns=X_train.columns)\n",
    "y_sm = pd.Series(y_sm)"
   ]
  },
  {
   "cell_type": "markdown",
   "metadata": {},
   "source": [
    "Función utilizada para poder tener alguna noción gráfica del efecto del oversampling. Proyectada en las dos componentes principales de más peso para poder verse en 2D"
   ]
  },
  {
   "cell_type": "code",
   "execution_count": 40,
   "metadata": {},
   "outputs": [],
   "source": [
    "def plot_2d_space(X, y, label='Classes'):   \n",
    "    colors = ['#1F77B4', '#FF7F0E']\n",
    "    markers = ['o', 's']\n",
    "    for l, c, m in zip(np.unique(y), colors, markers):\n",
    "        plt.scatter(\n",
    "            X[y==l, 0],\n",
    "            X[y==l, 1],\n",
    "            c=c, label=l, marker=m\n",
    "        )\n",
    "    plt.title(label)\n",
    "    plt.legend(loc='upper right')\n",
    "    plt.show()"
   ]
  },
  {
   "cell_type": "code",
   "execution_count": 45,
   "metadata": {},
   "outputs": [],
   "source": [
    "pca = PCA(n_components=2)\n",
    "pX_train = pca.fit_transform(X_train)"
   ]
  },
  {
   "cell_type": "code",
   "execution_count": 48,
   "metadata": {},
   "outputs": [
    {
     "data": {
      "image/png": "[encoded data removed]",
      "text/plain": [
       "<Figure size 432x288 with 1 Axes>"
      ]
     },
     "metadata": {
      "needs_background": "light"
     },
     "output_type": "display_data"
    }
   ],
   "source": [
    "plot_2d_space(pX_train, y_train, label='Sin oversampling')"
   ]
  },
  {
   "cell_type": "code",
   "execution_count": 44,
   "metadata": {},
   "outputs": [],
   "source": [
    "pca = PCA(n_components=2)\n",
    "pX_sm = pca.fit_transform(X_sm)"
   ]
  },
  {
   "cell_type": "code",
   "execution_count": 49,
   "metadata": {
    "scrolled": true
   },
   "outputs": [
    {
     "data": {
      "image/png": "[encoded data removed]",
      "text/plain": [
       "<Figure size 432x288 with 1 Axes>"
      ]
     },
     "metadata": {
      "needs_background": "light"
     },
     "output_type": "display_data"
    }
   ],
   "source": [
    "plot_2d_space(pX_sm, y_sm, label='Oversampling')"
   ]
  },
  {
   "cell_type": "code",
   "execution_count": 31,
   "metadata": {},
   "outputs": [
    {
     "name": "stdout",
     "output_type": "stream",
     "text": [
      "0    1232\n",
      "1     251\n",
      "Name: TARGET, dtype: int64\n",
      "1    1232\n",
      "0    1232\n",
      "dtype: int64\n"
     ]
    }
   ],
   "source": [
    "print(y_train.value_counts())\n",
    "print(y_sm.value_counts())"
   ]
  },
  {
   "cell_type": "markdown",
   "metadata": {},
   "source": [
    "**OVERSAMPLING SGD RAW**"
   ]
  },
  {
   "cell_type": "code",
   "execution_count": 76,
   "metadata": {
    "scrolled": true
   },
   "outputs": [
    {
     "name": "stdout",
     "output_type": "stream",
     "text": [
      "best:  0.5157927652151015\n",
      "SGDClassifier(alpha=0.0001, average=False, class_weight=None,\n",
      "              early_stopping=False, epsilon=0.1, eta0=0.0, fit_intercept=True,\n",
      "              l1_ratio=0.15, learning_rate='optimal', loss='log', max_iter=1000,\n",
      "              n_iter_no_change=5, n_jobs=None, penalty='l2', power_t=0.5,\n",
      "              random_state=None, shuffle=True, tol=0.001,\n",
      "              validation_fraction=0.1, verbose=0, warm_start=False)\n",
      "best so far: \n",
      "SGDClassifier(alpha=0.0001, average=False, class_weight=None,\n",
      "              early_stopping=False, epsilon=0.1, eta0=0.0, fit_intercept=True,\n",
      "              l1_ratio=0.15, learning_rate='optimal', loss='log', max_iter=1000,\n",
      "              n_iter_no_change=5, n_jobs=None, penalty='l2', power_t=0.5,\n",
      "              random_state=None, shuffle=True, tol=0.001,\n",
      "              validation_fraction=0.1, verbose=0, warm_start=False)\n",
      "\n",
      "\n",
      "\n",
      "Report and confusion matrix por TEST SET\n",
      "              precision    recall  f1-score   support\n",
      "\n",
      "           0       0.00      0.00      0.00       313\n",
      "           1       0.16      1.00      0.27        58\n",
      "\n",
      "    accuracy                           0.16       371\n",
      "   macro avg       0.08      0.50      0.14       371\n",
      "weighted avg       0.02      0.16      0.04       371\n",
      "\n",
      "[[  0 313]\n",
      " [  0  58]]\n",
      "\n",
      "Report and confusion matrix por TRAIN SET\n",
      "              precision    recall  f1-score   support\n",
      "\n",
      "           0       0.00      0.00      0.00      1232\n",
      "           1       0.50      1.00      0.67      1232\n",
      "\n",
      "    accuracy                           0.50      2464\n",
      "   macro avg       0.25      0.50      0.33      2464\n",
      "weighted avg       0.25      0.50      0.33      2464\n",
      "\n",
      "[[   0 1232]\n",
      " [   0 1232]]\n"
     ]
    }
   ],
   "source": [
    "results = pd.DataFrame(columns=('clf','best_acc'))\n",
    "param = {'loss':('hinge','log','epsilon_insensitive'), \n",
    "         'penalty':('l1','l2','elasticnet')} #'max_iter':(10000,100000)\n",
    "sclf = SGDClassifier()\n",
    "sclf_ = GridSearchCV(sclf, param, scoring='accuracy', cv=5, iid=False)\n",
    "sclf_.fit(X_sm, y_sm)\n",
    "best_clf = sclf_.best_estimator_\n",
    "print('best: ',sclf_.best_score_)\n",
    "print(best_clf)\n",
    "results = results.append({'clf': best_clf, 'best_acc': sclf_.best_score_},\n",
    "                        ignore_index=True)\n",
    "print('best so far: ')\n",
    "print(results.loc[results['best_acc'].idxmax()]['clf'])\n",
    "print('\\n\\n')\n",
    "print('Report and confusion matrix por TEST SET')\n",
    "print(classification_report(y_test, best_clf.predict(X_test)))\n",
    "print(confusion_matrix(y_test, best_clf.predict(X_test)))\n",
    "print('\\nReport and confusion matrix por TRAIN SET')\n",
    "print(classification_report(y_sm, best_clf.predict(X_sm)))\n",
    "print(confusion_matrix(y_sm, best_clf.predict(X_sm)))"
   ]
  },
  {
   "cell_type": "code",
   "execution_count": 48,
   "metadata": {},
   "outputs": [],
   "source": [
    "globalresult_sgd.append(sclf_.cv_results_['mean_test_score'])"
   ]
  },
  {
   "cell_type": "markdown",
   "metadata": {},
   "source": [
    "**OVERSAMPLING SGD NORMALIZADO**"
   ]
  },
  {
   "cell_type": "code",
   "execution_count": 49,
   "metadata": {},
   "outputs": [],
   "source": [
    "smote = SMOTE(ratio='minority')\n",
    "X_smn, y_smn = smote.fit_sample(nX_train, y_train)\n",
    "X_smn = pd.DataFrame(X_smn, columns=nX_train.columns)\n",
    "y_smn = pd.Series(y_smn)\n"
   ]
  },
  {
   "cell_type": "code",
   "execution_count": 78,
   "metadata": {},
   "outputs": [
    {
     "name": "stdout",
     "output_type": "stream",
     "text": [
      "best:  0.7150817945426419\n",
      "SGDClassifier(alpha=0.0001, average=False, class_weight=None,\n",
      "              early_stopping=False, epsilon=0.1, eta0=0.0, fit_intercept=True,\n",
      "              l1_ratio=0.15, learning_rate='optimal', loss='hinge',\n",
      "              max_iter=1000, n_iter_no_change=5, n_jobs=None, penalty='l2',\n",
      "              power_t=0.5, random_state=None, shuffle=True, tol=0.001,\n",
      "              validation_fraction=0.1, verbose=0, warm_start=False)\n",
      "best so far: \n",
      "SGDClassifier(alpha=0.0001, average=False, class_weight=None,\n",
      "              early_stopping=False, epsilon=0.1, eta0=0.0, fit_intercept=True,\n",
      "              l1_ratio=0.15, learning_rate='optimal', loss='hinge',\n",
      "              max_iter=1000, n_iter_no_change=5, n_jobs=None, penalty='l2',\n",
      "              power_t=0.5, random_state=None, shuffle=True, tol=0.001,\n",
      "              validation_fraction=0.1, verbose=0, warm_start=False)\n",
      "\n",
      "\n",
      "\n",
      "Report and confusion matrix por TEST SET\n",
      "              precision    recall  f1-score   support\n",
      "\n",
      "           0       0.91      0.89      0.90       313\n",
      "           1       0.48      0.53      0.51        58\n",
      "\n",
      "    accuracy                           0.84       371\n",
      "   macro avg       0.70      0.71      0.71       371\n",
      "weighted avg       0.85      0.84      0.84       371\n",
      "\n",
      "[[280  33]\n",
      " [ 27  31]]\n",
      "\n",
      "Report and confusion matrix por TRAIN SET\n",
      "              precision    recall  f1-score   support\n",
      "\n",
      "           0       0.63      0.89      0.74      1232\n",
      "           1       0.82      0.47      0.60      1232\n",
      "\n",
      "    accuracy                           0.68      2464\n",
      "   macro avg       0.72      0.68      0.67      2464\n",
      "weighted avg       0.72      0.68      0.67      2464\n",
      "\n",
      "[[1100  132]\n",
      " [ 647  585]]\n"
     ]
    }
   ],
   "source": [
    "results = pd.DataFrame(columns=('clf','best_acc'))\n",
    "param = {'loss':('hinge','log','epsilon_insensitive'), \n",
    "         'penalty':('l1','l2','elasticnet')} #'max_iter':(10000,100000)\n",
    "sclf = SGDClassifier()\n",
    "sclf_ = GridSearchCV(sclf, param, scoring='accuracy', cv=5, iid=False)\n",
    "sclf_.fit(X_smn, y_smn)\n",
    "best_clf = sclf_.best_estimator_\n",
    "print('best: ',sclf_.best_score_)\n",
    "print(best_clf)\n",
    "results = results.append({'clf': best_clf, 'best_acc': sclf_.best_score_},\n",
    "                        ignore_index=True)\n",
    "print('best so far: ')\n",
    "print(results.loc[results['best_acc'].idxmax()]['clf'])\n",
    "print('\\n\\n')\n",
    "print('Report and confusion matrix por TEST SET')\n",
    "print(classification_report(y_test, best_clf.predict(nX_test)))\n",
    "print(confusion_matrix(y_test, best_clf.predict(nX_test)))\n",
    "print('\\nReport and confusion matrix por TRAIN SET')\n",
    "print(classification_report(y_smn, best_clf.predict(X_smn)))\n",
    "print(confusion_matrix(y_smn, best_clf.predict(X_smn)))"
   ]
  },
  {
   "cell_type": "code",
   "execution_count": 51,
   "metadata": {},
   "outputs": [],
   "source": [
    "globalresult_sgd.append(sclf_.cv_results_['mean_test_score'])"
   ]
  },
  {
   "cell_type": "markdown",
   "metadata": {},
   "source": [
    "**OVERSAMPLING TREE RAW**"
   ]
  },
  {
   "cell_type": "code",
   "execution_count": 52,
   "metadata": {},
   "outputs": [
    {
     "name": "stdout",
     "output_type": "stream",
     "text": [
      "Best Decision Tree accuracy:  0.894121325828643\n",
      "DecisionTreeClassifier(class_weight=None, criterion='gini', max_depth=None,\n",
      "                       max_features=None, max_leaf_nodes=None,\n",
      "                       min_impurity_decrease=0.0, min_impurity_split=None,\n",
      "                       min_samples_leaf=1, min_samples_split=2,\n",
      "                       min_weight_fraction_leaf=0.0, presort=False,\n",
      "                       random_state=42, splitter='best')\n",
      "The best classifier so far is: \n",
      "DecisionTreeClassifier(class_weight=None, criterion='gini', max_depth=None,\n",
      "                       max_features=None, max_leaf_nodes=None,\n",
      "                       min_impurity_decrease=0.0, min_impurity_split=None,\n",
      "                       min_samples_leaf=1, min_samples_split=2,\n",
      "                       min_weight_fraction_leaf=0.0, presort=False,\n",
      "                       random_state=42, splitter='best')\n",
      "Report and confusion matrix por TEST SET\n",
      "              precision    recall  f1-score   support\n",
      "\n",
      "           0       0.00      0.00      0.00       313\n",
      "           1       0.16      1.00      0.27        58\n",
      "\n",
      "    accuracy                           0.16       371\n",
      "   macro avg       0.08      0.50      0.14       371\n",
      "weighted avg       0.02      0.16      0.04       371\n",
      "\n",
      "[[  0 313]\n",
      " [  0  58]]\n",
      "\n",
      "Report and confusion matrix por TRAIN SET\n",
      "              precision    recall  f1-score   support\n",
      "\n",
      "           0       0.00      0.00      0.00      1232\n",
      "           1       0.50      1.00      0.67      1232\n",
      "\n",
      "    accuracy                           0.50      2464\n",
      "   macro avg       0.25      0.50      0.33      2464\n",
      "weighted avg       0.25      0.50      0.33      2464\n",
      "\n",
      "[[   0 1232]\n",
      " [   0 1232]]\n"
     ]
    }
   ],
   "source": [
    "tree_param = {'criterion':('gini', 'entropy'), 'min_samples_leaf':(1, 8),\n",
    "              'min_samples_split': (2,10,100)} #best 680\n",
    "\n",
    "tree = DT(random_state=42)\n",
    "tree_clf = GridSearchCV(tree, tree_param, scoring='accuracy', cv=5, iid=False)\n",
    "tree_clf.fit(X_sm, y_sm)\n",
    "best_tree_clf = tree_clf.best_estimator_\n",
    "print('Best Decision Tree accuracy: ', tree_clf.best_score_)\n",
    "print(best_tree_clf)\n",
    "results = results.append({'clf': best_tree_clf, 'best_acc': tree_clf.best_score_}, ignore_index=True)\n",
    "\n",
    "print('The best classifier so far is: ')\n",
    "print(results.loc[results['best_acc'].idxmax()]['clf'])\n",
    "\n",
    "print('Report and confusion matrix por TEST SET')\n",
    "print(classification_report(y_test, best_clf.predict(X_test)))\n",
    "print(confusion_matrix(y_test, best_clf.predict(X_test)))\n",
    "print('\\nReport and confusion matrix por TRAIN SET')\n",
    "print(classification_report(y_sm, best_clf.predict(X_sm)))\n",
    "print(confusion_matrix(y_sm, best_clf.predict(X_sm)))"
   ]
  },
  {
   "cell_type": "code",
   "execution_count": 54,
   "metadata": {},
   "outputs": [],
   "source": [
    "globalresult_tree.append(tree_clf.cv_results_['mean_test_score'])"
   ]
  },
  {
   "cell_type": "markdown",
   "metadata": {},
   "source": [
    "\n",
    "**OVERSAMPLING TREE NORMALIZADO**"
   ]
  },
  {
   "cell_type": "code",
   "execution_count": 55,
   "metadata": {
    "scrolled": false
   },
   "outputs": [
    {
     "name": "stdout",
     "output_type": "stream",
     "text": [
      "Best Decision Tree accuracy:  0.8945179553010105\n",
      "DecisionTreeClassifier(class_weight=None, criterion='gini', max_depth=None,\n",
      "                       max_features=None, max_leaf_nodes=None,\n",
      "                       min_impurity_decrease=0.0, min_impurity_split=None,\n",
      "                       min_samples_leaf=1, min_samples_split=2,\n",
      "                       min_weight_fraction_leaf=0.0, presort=False,\n",
      "                       random_state=42, splitter='best')\n",
      "The best classifier so far is: \n",
      "DecisionTreeClassifier(class_weight=None, criterion='gini', max_depth=None,\n",
      "                       max_features=None, max_leaf_nodes=None,\n",
      "                       min_impurity_decrease=0.0, min_impurity_split=None,\n",
      "                       min_samples_leaf=1, min_samples_split=2,\n",
      "                       min_weight_fraction_leaf=0.0, presort=False,\n",
      "                       random_state=42, splitter='best')\n",
      "Report and confusion matrix por TEST SET\n",
      "              precision    recall  f1-score   support\n",
      "\n",
      "           0       0.91      0.74      0.82       313\n",
      "           1       0.30      0.60      0.40        58\n",
      "\n",
      "    accuracy                           0.72       371\n",
      "   macro avg       0.61      0.67      0.61       371\n",
      "weighted avg       0.82      0.72      0.75       371\n",
      "\n",
      "[[233  80]\n",
      " [ 23  35]]\n",
      "\n",
      "Report and confusion matrix por TRAIN SET\n",
      "              precision    recall  f1-score   support\n",
      "\n",
      "           0       0.64      0.77      0.70      1232\n",
      "           1       0.71      0.57      0.63      1232\n",
      "\n",
      "    accuracy                           0.67      2464\n",
      "   macro avg       0.68      0.67      0.67      2464\n",
      "weighted avg       0.68      0.67      0.67      2464\n",
      "\n",
      "[[946 286]\n",
      " [530 702]]\n"
     ]
    }
   ],
   "source": [
    "tree_param = {'criterion':('gini', 'entropy'), 'min_samples_leaf':(1, 8),\n",
    "              'min_samples_split': (2,10,100)} #best 680\n",
    "\n",
    "tree = DT(random_state=42)\n",
    "tree_clf = GridSearchCV(tree, tree_param, scoring='accuracy', cv=5, iid=False)\n",
    "tree_clf.fit(X_smn, y_smn)\n",
    "best_tree_clf = tree_clf.best_estimator_\n",
    "print('Best Decision Tree accuracy: ', tree_clf.best_score_)\n",
    "print(best_tree_clf)\n",
    "results = results.append({'clf': best_tree_clf, 'best_acc': tree_clf.best_score_}, ignore_index=True)\n",
    "\n",
    "print('The best classifier so far is: ')\n",
    "print(results.loc[results['best_acc'].idxmax()]['clf'])\n",
    "\n",
    "print('Report and confusion matrix por TEST SET')\n",
    "print(classification_report(y_test, best_clf.predict(nX_test)))\n",
    "print(confusion_matrix(y_test, best_clf.predict(nX_test)))\n",
    "print('\\nReport and confusion matrix por TRAIN SET')\n",
    "print(classification_report(y_smn, best_clf.predict(X_smn)))\n",
    "print(confusion_matrix(y_smn, best_clf.predict(X_smn)))"
   ]
  },
  {
   "cell_type": "code",
   "execution_count": 56,
   "metadata": {},
   "outputs": [],
   "source": [
    "globalresult_tree.append(tree_clf.cv_results_['mean_test_score'])"
   ]
  },
  {
   "cell_type": "markdown",
   "metadata": {},
   "source": [
    "# Neural Networks"
   ]
  },
  {
   "cell_type": "code",
   "execution_count": 57,
   "metadata": {},
   "outputs": [],
   "source": [
    "globalresult_nn = []"
   ]
  },
  {
   "cell_type": "code",
   "execution_count": 26,
   "metadata": {},
   "outputs": [],
   "source": [
    "import warnings\n",
    "warnings.filterwarnings('ignore')"
   ]
  },
  {
   "cell_type": "code",
   "execution_count": 58,
   "metadata": {},
   "outputs": [],
   "source": [
    "clf = neural_network.MLPClassifier(solver='lbfgs', alpha=1e-5, hidden_layer_sizes=(5, 2), random_state=1, max_iter=5000)"
   ]
  },
  {
   "cell_type": "markdown",
   "metadata": {},
   "source": [
    "**RAW**"
   ]
  },
  {
   "cell_type": "code",
   "execution_count": 59,
   "metadata": {
    "scrolled": true
   },
   "outputs": [
    {
     "name": "stdout",
     "output_type": "stream",
     "text": [
      "TRAIN\n",
      "              precision    recall  f1-score   support\n",
      "\n",
      "           0       0.00      0.00      0.00      1232\n",
      "           1       0.17      1.00      0.29       251\n",
      "\n",
      "    accuracy                           0.17      1483\n",
      "   macro avg       0.08      0.50      0.14      1483\n",
      "weighted avg       0.03      0.17      0.05      1483\n",
      "\n",
      "[[   0 1232]\n",
      " [   0  251]]\n",
      "\n",
      "TEST\n",
      "              precision    recall  f1-score   support\n",
      "\n",
      "           0       0.00      0.00      0.00       313\n",
      "           1       0.16      1.00      0.27        58\n",
      "\n",
      "    accuracy                           0.16       371\n",
      "   macro avg       0.08      0.50      0.14       371\n",
      "weighted avg       0.02      0.16      0.04       371\n",
      "\n",
      "[[  0 313]\n",
      " [  0  58]]\n"
     ]
    }
   ],
   "source": [
    "clf.fit(X_train, y_train)\n",
    "#clf.predict(nX_train)\n",
    "print('TRAIN')\n",
    "print(classification_report(y_train, clf.predict(X_train)))\n",
    "print(confusion_matrix(y_train, clf.predict(X_train)))\n",
    "print('\\nTEST')\n",
    "print(classification_report(y_test, clf.predict(X_test)))\n",
    "print(confusion_matrix(y_test, clf.predict(X_test)))"
   ]
  },
  {
   "cell_type": "code",
   "execution_count": 60,
   "metadata": {},
   "outputs": [],
   "source": [
    "globalresult_nn.append(clf.score(X_test, y_test))\n",
    "globalresult_nn.append(clf.score(X_train, y_train))"
   ]
  },
  {
   "cell_type": "markdown",
   "metadata": {},
   "source": [
    "**NORMALIZED**"
   ]
  },
  {
   "cell_type": "code",
   "execution_count": 61,
   "metadata": {
    "scrolled": true
   },
   "outputs": [
    {
     "name": "stdout",
     "output_type": "stream",
     "text": [
      "TRAIN\n",
      "              precision    recall  f1-score   support\n",
      "\n",
      "           0       0.92      0.99      0.95      1232\n",
      "           1       0.91      0.55      0.69       251\n",
      "\n",
      "    accuracy                           0.92      1483\n",
      "   macro avg       0.92      0.77      0.82      1483\n",
      "weighted avg       0.92      0.92      0.91      1483\n",
      "\n",
      "[[1219   13]\n",
      " [ 112  139]]\n",
      "\n",
      "TEST\n",
      "              precision    recall  f1-score   support\n",
      "\n",
      "           0       0.92      0.97      0.94       313\n",
      "           1       0.78      0.53      0.63        58\n",
      "\n",
      "    accuracy                           0.90       371\n",
      "   macro avg       0.85      0.75      0.79       371\n",
      "weighted avg       0.90      0.90      0.90       371\n",
      "\n",
      "[[304   9]\n",
      " [ 27  31]]\n"
     ]
    }
   ],
   "source": [
    "clf.fit(nX_train, y_train)\n",
    "#clf.predict(nX_train)\n",
    "print('TRAIN')\n",
    "print(classification_report(y_train, clf.predict(nX_train)))\n",
    "print(confusion_matrix(y_train, clf.predict(nX_train)))\n",
    "print('\\nTEST')\n",
    "print(classification_report(y_test, clf.predict(nX_test)))\n",
    "print(confusion_matrix(y_test, clf.predict(nX_test)))"
   ]
  },
  {
   "cell_type": "code",
   "execution_count": 62,
   "metadata": {},
   "outputs": [],
   "source": [
    "globalresult_nn.append(clf.score(nX_test, y_test))\n",
    "globalresult_nn.append(clf.score(nX_train, y_train))"
   ]
  },
  {
   "cell_type": "markdown",
   "metadata": {},
   "source": [
    "**PCA - 10 COMPONENTS >0.75 VAR EXPLAINED**"
   ]
  },
  {
   "cell_type": "code",
   "execution_count": 63,
   "metadata": {
    "scrolled": true
   },
   "outputs": [
    {
     "name": "stdout",
     "output_type": "stream",
     "text": [
      "TRAIN\n",
      "              precision    recall  f1-score   support\n",
      "\n",
      "           0       0.91      0.98      0.94      1232\n",
      "           1       0.85      0.53      0.66       251\n",
      "\n",
      "    accuracy                           0.90      1483\n",
      "   macro avg       0.88      0.76      0.80      1483\n",
      "weighted avg       0.90      0.90      0.90      1483\n",
      "\n",
      "[[1208   24]\n",
      " [ 117  134]]\n",
      "\n",
      "TEST\n",
      "              precision    recall  f1-score   support\n",
      "\n",
      "           0       0.91      0.97      0.94       313\n",
      "           1       0.76      0.50      0.60        58\n",
      "\n",
      "    accuracy                           0.90       371\n",
      "   macro avg       0.84      0.74      0.77       371\n",
      "weighted avg       0.89      0.90      0.89       371\n",
      "\n",
      "[[304   9]\n",
      " [ 29  29]]\n"
     ]
    }
   ],
   "source": [
    "clf.fit(pX_train, y_train)\n",
    "#clf.predict(nX_train)\n",
    "print('TRAIN')\n",
    "print(classification_report(y_train, clf.predict(pX_train)))\n",
    "print(confusion_matrix(y_train, clf.predict(pX_train)))\n",
    "print('\\nTEST')\n",
    "print(classification_report(y_test, clf.predict(pX_test)))\n",
    "print(confusion_matrix(y_test, clf.predict(pX_test)))"
   ]
  },
  {
   "cell_type": "code",
   "execution_count": 64,
   "metadata": {},
   "outputs": [],
   "source": [
    "globalresult_nn.append(clf.score(nX_test, y_test))\n",
    "globalresult_nn.append(clf.score(nX_train, y_train))"
   ]
  },
  {
   "cell_type": "markdown",
   "metadata": {},
   "source": [
    "**SMOTE RAW**"
   ]
  },
  {
   "cell_type": "code",
   "execution_count": 65,
   "metadata": {
    "scrolled": true
   },
   "outputs": [
    {
     "name": "stdout",
     "output_type": "stream",
     "text": [
      "TRAIN\n",
      "              precision    recall  f1-score   support\n",
      "\n",
      "           0       0.00      0.00      0.00      1232\n",
      "           1       0.50      1.00      0.67      1232\n",
      "\n",
      "    accuracy                           0.50      2464\n",
      "   macro avg       0.25      0.50      0.33      2464\n",
      "weighted avg       0.25      0.50      0.33      2464\n",
      "\n",
      "[[   0 1232]\n",
      " [   0 1232]]\n",
      "\n",
      "TEST\n",
      "              precision    recall  f1-score   support\n",
      "\n",
      "           0       0.00      0.00      0.00       313\n",
      "           1       0.16      1.00      0.27        58\n",
      "\n",
      "    accuracy                           0.16       371\n",
      "   macro avg       0.08      0.50      0.14       371\n",
      "weighted avg       0.02      0.16      0.04       371\n",
      "\n",
      "[[  0 313]\n",
      " [  0  58]]\n"
     ]
    }
   ],
   "source": [
    "clf.fit(X_sm, y_sm)\n",
    "#clf.predict(nX_train)\n",
    "print('TRAIN')\n",
    "print(classification_report(y_sm, clf.predict(X_sm)))\n",
    "print(confusion_matrix(y_sm, clf.predict(X_sm)))\n",
    "print('\\nTEST')\n",
    "print(classification_report(y_test, clf.predict(X_test)))\n",
    "print(confusion_matrix(y_test, clf.predict(X_test)))"
   ]
  },
  {
   "cell_type": "code",
   "execution_count": 66,
   "metadata": {},
   "outputs": [],
   "source": [
    "globalresult_nn.append(clf.score(nX_test, y_test))\n",
    "globalresult_nn.append(clf.score(nX_train, y_train))"
   ]
  },
  {
   "cell_type": "markdown",
   "metadata": {},
   "source": [
    "**SMOTE NORMALIZED**"
   ]
  },
  {
   "cell_type": "code",
   "execution_count": 67,
   "metadata": {
    "scrolled": true
   },
   "outputs": [
    {
     "name": "stdout",
     "output_type": "stream",
     "text": [
      "TRAIN\n",
      "              precision    recall  f1-score   support\n",
      "\n",
      "           0       0.81      0.78      0.80      1232\n",
      "           1       0.79      0.82      0.80      1232\n",
      "\n",
      "    accuracy                           0.80      2464\n",
      "   macro avg       0.80      0.80      0.80      2464\n",
      "weighted avg       0.80      0.80      0.80      2464\n",
      "\n",
      "[[ 964  268]\n",
      " [ 225 1007]]\n",
      "\n",
      "TEST\n",
      "              precision    recall  f1-score   support\n",
      "\n",
      "           0       0.95      0.74      0.84       313\n",
      "           1       0.37      0.79      0.50        58\n",
      "\n",
      "    accuracy                           0.75       371\n",
      "   macro avg       0.66      0.77      0.67       371\n",
      "weighted avg       0.86      0.75      0.78       371\n",
      "\n",
      "[[233  80]\n",
      " [ 12  46]]\n"
     ]
    }
   ],
   "source": [
    "clf.fit(X_smn, y_smn)\n",
    "#clf.predict(nX_train)\n",
    "print('TRAIN')\n",
    "print(classification_report(y_smn, clf.predict(X_smn)))\n",
    "print(confusion_matrix(y_smn, clf.predict(X_smn)))\n",
    "print('\\nTEST')\n",
    "print(classification_report(y_test, clf.predict(nX_test)))\n",
    "print(confusion_matrix(y_test, clf.predict(nX_test)))"
   ]
  },
  {
   "cell_type": "code",
   "execution_count": 68,
   "metadata": {},
   "outputs": [],
   "source": [
    "globalresult_nn.append(clf.score(nX_test, y_test))\n",
    "globalresult_nn.append(clf.score(nX_train, y_train))"
   ]
  },
  {
   "cell_type": "markdown",
   "metadata": {},
   "source": [
    "# ============\n",
    "# Comparativa Gráfica"
   ]
  },
  {
   "cell_type": "code",
   "execution_count": 85,
   "metadata": {},
   "outputs": [],
   "source": [
    "from itertools import product\n",
    "def dproduct(inp):\n",
    "    return (dict(zip(inp.keys(), values)) for values in product(*inp.values()))"
   ]
  },
  {
   "cell_type": "code",
   "execution_count": 86,
   "metadata": {},
   "outputs": [],
   "source": [
    "sgd_param =  {'loss':('hinge','log','epsilon_insensitive'), \n",
    "         'penalty':('l1','l2','elasticnet')}\n",
    "tree_param = {'criterion':('gini', 'entropy'), 'min_samples_leaf':(1, 8),\n",
    "              'min_samples_split': (2,10,100)}"
   ]
  },
  {
   "cell_type": "code",
   "execution_count": 87,
   "metadata": {},
   "outputs": [],
   "source": [
    "sgdlabel = list(dproduct(sgd_param))\n",
    "sgdlabel = [list(x.values())[0]+'_'+list(x.values())[1] for x in sgdlabel]\n",
    "treelabel = list(dproduct(tree_param))\n",
    "treelabel = [list(x.values())[0]+'_'+str(list(x.values())[1])+'_'+str(list(x.values())[2]) for x in treelabel]\n",
    "#label"
   ]
  },
  {
   "cell_type": "markdown",
   "metadata": {},
   "source": [
    "## SGD Classifier"
   ]
  },
  {
   "cell_type": "code",
   "execution_count": 102,
   "metadata": {},
   "outputs": [
    {
     "data": {
      "image/png": "[encoded data removed]",
      "text/plain": [
       "<Figure size 936x936 with 1 Axes>"
      ]
     },
     "metadata": {
      "needs_background": "light"
     },
     "output_type": "display_data"
    }
   ],
   "source": [
    "plt.figure(figsize=(13,13))\n",
    "plt.title('Comparativa de métodos y parámetros para SGDClassifier', loc='center', fontsize='15')\n",
    "plt.plot(np.arange(9),globalresult_sgd[4], label='raw data')\n",
    "plt.plot(np.arange(9),globalresult_sgd[5], label='normalized data')\n",
    "plt.plot(np.arange(9),globalresult_sgd[6], label='PCA')\n",
    "plt.plot(np.arange(9),globalresult_sgd[7], label='greedy_elim raw data')\n",
    "plt.plot(np.arange(9),globalresult_sgd[8], label='greedy_elim norm data')\n",
    "plt.plot(np.arange(9),globalresult_sgd[9], label='oversampling raw data')\n",
    "plt.plot(np.arange(9),globalresult_sgd[10], label='oversampling norm')\n",
    "plt.axhline(globalresult_sgd[1], linestyle = '-.', label='default over raw data')\n",
    "plt.axhline(globalresult_sgd[3], linestyle = '--', label='default over normalized data')\n",
    "plt.legend()\n",
    "plt.xlabel('Gamma')\n",
    "plt.ylabel('Mean score')\n",
    "plt.xticks(np.arange(9),sgdlabel, rotation=45)\n",
    "#plt.tight_layout()\n",
    "plt.show()"
   ]
  },
  {
   "cell_type": "markdown",
   "metadata": {},
   "source": [
    "### Análisis"
   ]
  },
  {
   "cell_type": "markdown",
   "metadata": {},
   "source": [
    "Para las combinaciones de parámetros exploradas, los mejores resultados con absoluta diferencia se obvtuvieron trabajando sobre los datos normalizados. De hecho el clasificador con los hiperparámetros por defecto sobre los datos normalizados es uno de los modelos que mejor trabaja. Junto a él, entre los mejores se encuentran casi todos los otros casos de normalización excepto en el que se realiza un sobremuestreo de los datos. Cabe destacar que se probó solamente una técnica de sobremuestreo y ninguna de undersampling ni técnicas mixtas.  \n",
    "La reducción de dimensionalidad muestra ser de utilidad en este caso, como se podía sospechar a partir de la matriz de correlación de la primera sección.  \n"
   ]
  },
  {
   "cell_type": "code",
   "execution_count": 107,
   "metadata": {},
   "outputs": [
    {
     "data": {
      "image/png": "[encoded data removed]",
      "text/plain": [
       "<Figure size 936x936 with 1 Axes>"
      ]
     },
     "metadata": {
      "needs_background": "light"
     },
     "output_type": "display_data"
    }
   ],
   "source": [
    "plt.figure(figsize=(13,13))\n",
    "plt.title('Comparativa de métodos y parámetros para Decision Tree Classifier', loc='center', fontsize='15')\n",
    "plt.plot(np.arange(12),globalresult_tree[4], label='raw data')\n",
    "plt.plot(np.arange(12),globalresult_tree[5], label='normalized data')\n",
    "plt.plot(np.arange(12),globalresult_tree[6], label='PCA')\n",
    "plt.plot(np.arange(12),globalresult_tree[7], label='greedy_elim raw data')\n",
    "plt.plot(np.arange(12),globalresult_tree[8], label='greedy_elim norm data')\n",
    "plt.plot(np.arange(12),globalresult_tree[9], label='oversampling raw data')\n",
    "plt.plot(np.arange(12),globalresult_tree[10], label='oversampling norm')\n",
    "plt.axhline(globalresult_sgd[1], linestyle = '-.', label='default over raw data')\n",
    "plt.axhline(globalresult_sgd[3], linestyle = '--', label='default over normalized data')\n",
    "plt.legend()\n",
    "plt.xlabel('Gamma')\n",
    "plt.ylabel('Mean score')\n",
    "plt.xticks(np.arange(12),treelabel, rotation=45)\n",
    "#plt.tight_layout()\n",
    "plt.show()"
   ]
  },
  {
   "cell_type": "markdown",
   "metadata": {},
   "source": [
    "### Análisis"
   ]
  },
  {
   "cell_type": "markdown",
   "metadata": {},
   "source": [
    "Los modelos de predicción por Decision Tree tienen un rendimiento general muy superior al caso anterior. Basta con comparar las escalas de ambos gráficos para notar la marcada diferencia.  \n",
    "En este caso, la normalización resulta bien siendo relativamente estables los scores obtenidos por los metodos que trabajan con esos datos a través de todas las combinaciones de parámetros utilizados. La única excepción a este comportamiento es el oversampling que tanto con datos normalizados como crudos tiene una sensibilidad a la variación de hiperparámetros muy superior; es particularmente sensible al parámetro *min_samples_split* lo que quizás esté relacionado con la metodología de sobremuestreo de alguna manera.  \n",
    "Las técnicas de reducción de dimensionalidad también funcionan bien en este caso, con la diferencia sorpresiva de que Greedy eliminarion se comporta de manera muy similar trabajando tanto sobre datos normalizados como sobre datos crudos.  "
   ]
  },
  {
   "cell_type": "code",
   "execution_count": 149,
   "metadata": {
    "scrolled": true
   },
   "outputs": [
    {
     "data": {
      "text/plain": [
       "([<matplotlib.axis.XTick at 0x2109db8d7b8>,\n",
       "  <matplotlib.axis.XTick at 0x2109db8d080>,\n",
       "  <matplotlib.axis.XTick at 0x2109db73710>,\n",
       "  <matplotlib.axis.XTick at 0x2109e51e9b0>,\n",
       "  <matplotlib.axis.XTick at 0x2109e51ee80>,\n",
       "  <matplotlib.axis.XTick at 0x2109e52a390>,\n",
       "  <matplotlib.axis.XTick at 0x2109e52a860>,\n",
       "  <matplotlib.axis.XTick at 0x2109e52ad30>,\n",
       "  <matplotlib.axis.XTick at 0x2109e540240>,\n",
       "  <matplotlib.axis.XTick at 0x2109e540710>],\n",
       " <a list of 10 Text xticklabel objects>)"
      ]
     },
     "execution_count": 149,
     "metadata": {},
     "output_type": "execute_result"
    },
    {
     "data": {
      "image/png": "[encoded data removed]",
      "text/plain": [
       "<Figure size 504x216 with 1 Axes>"
      ]
     },
     "metadata": {
      "needs_background": "light"
     },
     "output_type": "display_data"
    }
   ],
   "source": [
    "nnlabels = ['rawdata trainset', 'rawdata, testset', 'normalized testset', 'normalized trainset'\n",
    "           ,'PCA testset', 'PCA trainset', 'oversample raw testset', 'oversample raw trainset'\n",
    "           ,'oversample norm testset', 'oversample norm trainset']\n",
    "plt.figure(figsize=(7,3))\n",
    "plt.scatter(x=range(len(globalresult_nn)),y=globalresult_nn)\n",
    "plt.xticks(range(len(globalresult_nn)), nnlabels, rotation = 45)"
   ]
  },
  {
   "cell_type": "markdown",
   "metadata": {},
   "source": [
    "### Análisis"
   ]
  },
  {
   "cell_type": "markdown",
   "metadata": {},
   "source": [
    "Las redes neuronales se probaron con hiperparámetros por defecto como comparación rápida sobre los primeros métodos de referencia. Resultaron en un rendimiento pésimo sobre los sets de datos sin normalizar y excelentes -entre los mejores- para los sets de datos normalizados.  \n",
    "Nuevamente se muestra una buena capacidad predictiva remanente luego de la reducción de dimensionalidad. De todas maneras, según la naturaleza del problema puede no ser sacrificable."
   ]
  },
  {
   "cell_type": "markdown",
   "metadata": {},
   "source": [
    "## Mejoras en las pruebas"
   ]
  },
  {
   "cell_type": "markdown",
   "metadata": {},
   "source": [
    "Hay dos modificaciones inmediatas para ampliar el análisis.  \n",
    "1. Las advertencias, desactivadas en el notebook para mejor comodidad, en muchos casos advierten acerca de que se ha alcanzado el número máximo de iteraciones. Para mejorar las pruebas sería bueno agregar este parámetro a GridSearchCV o directamente trabajar con un valor superior pues el tiempo de trabajo es insignificante de todas maneras en el caso actual.  \n",
    "2. En Decision Trees, min_samples_split funciona bien para valores muy superiores a los explorados y quizás valga la pena mayor variación en las magnitudes."
   ]
  }
 ],
 "metadata": {
  "kernelspec": {
   "display_name": "Python 3",
   "language": "python",
   "name": "python3"
  },
  "language_info": {
   "codemirror_mode": {
    "name": "ipython",
    "version": 3
   },
   "file_extension": ".py",
   "mimetype": "text/x-python",
   "name": "python",
   "nbconvert_exporter": "python",
   "pygments_lexer": "ipython3",
   "version": "3.6.8"
  }
 },
 "nbformat": 4,
 "nbformat_minor": 2
}
